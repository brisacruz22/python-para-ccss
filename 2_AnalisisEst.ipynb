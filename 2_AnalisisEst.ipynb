{
  "nbformat": 4,
  "nbformat_minor": 0,
  "metadata": {
    "colab": {
      "provenance": []
    },
    "kernelspec": {
      "name": "python3",
      "display_name": "Python 3"
    },
    "language_info": {
      "name": "python"
    }
  },
  "cells": [
    {
      "cell_type": "markdown",
      "source": [
        "# Introducción a Python aplicado a las Ciencias Sociales\n",
        "\n",
        "### Talleres Introductorios Q-Lab 2024-II\n",
        "### Encargadas: Lucía Díaz y Brisa Cruz"
      ],
      "metadata": {
        "id": "Z_Wu9o0AQmph"
      }
    },
    {
      "cell_type": "markdown",
      "source": [
        "## Objetivos de esta sesión 🐼"
      ],
      "metadata": {
        "id": "HIgLYE9KiIPe"
      }
    },
    {
      "cell_type": "markdown",
      "source": [
        "1.   Aprender a unir bases de datos en Python 🤝\n",
        "2.   Utilizar Python para realizar análisis estadísticos simples 🔍\n",
        "3.   Generar descriptivos e inferencias básicas de los datos 😸\n"
      ],
      "metadata": {
        "id": "CmL8vTGNWOG7"
      }
    },
    {
      "cell_type": "markdown",
      "source": [
        "## [Recordatorio] Evaluación"
      ],
      "metadata": {
        "id": "-CnuKJNtiSQ1"
      }
    },
    {
      "cell_type": "markdown",
      "metadata": {
        "tags": [],
        "id": "45a1ef41-e2ac-4157-85c1-c0ebb1771987"
      },
      "source": [
        "***Asistencia***\n",
        "\n",
        "- Es necesario asistir al 75% de las sesiones.\n",
        "\n",
        "**Tarea**\n",
        "\n",
        "- Dejaremos 1 tarea al finalizar las 5 sesiones, que será realizada en grupo. Será elegir una base de datos y hacer un análisis descriptivo de 5 variables (estadísticos básicos con descripción breve y gráficos). Se tendrá plazo hasta el miércoles 21 (11:59pm).\n",
        "  - No es necesario esperar hasta la última sesión para empezar la tarea, tods las sesiones aprenderan algo útil para el proyecto.\n",
        "  - Se realizará en grupo de 3-5 personas. Pueden apuntarse aquí: https://docs.google.com/spreadsheets/d/1zwuFgFiNCTY5yzwr-3mW09dh15K2aoUtePKQNsY9oTw/edit?usp=sharing\n",
        "\n",
        "\n",
        "**Por favor no se apunten ahora y miren la clase.**"
      ]
    },
    {
      "cell_type": "markdown",
      "source": [
        "## ¿Qué es Python?"
      ],
      "metadata": {
        "id": "dxmD3MOsiPJK"
      }
    },
    {
      "cell_type": "markdown",
      "source": [
        "\n",
        "Python es un lenguaje de programación, el cual tiene muchas aplicaciones: análisis de datos, desarrollo web, creación de aplicaciones...\n",
        "\n",
        "Pero, desde las Ciencias Sociales, nos interesa para el **análisis de datos**.\n"
      ],
      "metadata": {
        "id": "tOf0tzZJQwWX"
      }
    },
    {
      "cell_type": "markdown",
      "source": [
        "Funciones para leer archivos de la librería pandas\n",
        "\n",
        "- csv: read_csv\n",
        "- xlsx: read_excel\n",
        "- spss: read_spss (terminación .sav)\n",
        "- sql: read_sql\n",
        "- y más!\n"
      ],
      "metadata": {
        "id": "uqFRS_MKk-Ct"
      }
    },
    {
      "cell_type": "markdown",
      "source": [
        "# **Sección 1: Importar y unir bases de datos (*dataframes*)**"
      ],
      "metadata": {
        "id": "edx_xmqDRxTP"
      }
    },
    {
      "cell_type": "markdown",
      "source": [
        "## 1. Importando los datos"
      ],
      "metadata": {
        "id": "EyLG6FiVSYXn"
      }
    },
    {
      "cell_type": "markdown",
      "source": [
        "Empezamos importando las dos bases de datos (Enaho01a-2023-500 and Enaho01A-2023-300) desde sus respectivos archivos CSV. Una tiene información sobre temas educativos del encuestado y otra sobre temas de empleo.\n",
        "\n",
        "- En este caso, estamos uniendo dos secciones o módulos diferentes de una misma fuente (la ENAHO).\n",
        "\n",
        "- Sin embargo, el proceso es el mismo para unir bases de diferentes fuentes. Por ejemplo, Censo + ENAHO o ENAHO + datos RENIEC o ENAHO + datos MEF. Esto se hace a partir de una columna común en algún nivel de análisis, por lo general, un código que previene la variación en la redacción (id, ubigeo, etc.)."
      ],
      "metadata": {
        "id": "k5AMkbO2SkRJ"
      }
    },
    {
      "cell_type": "code",
      "source": [
        "import os\n",
        "from google.colab import drive"
      ],
      "metadata": {
        "id": "ivHPZUoxQkwt"
      },
      "execution_count": 1,
      "outputs": []
    },
    {
      "cell_type": "code",
      "source": [
        "drive.mount(\"/content/drive\", force_remount=True)"
      ],
      "metadata": {
        "id": "WBq6rc2As-sh",
        "colab": {
          "base_uri": "https://localhost:8080/"
        },
        "outputId": "ba220a0b-040c-40a5-c57f-d01370fc6af9"
      },
      "execution_count": 2,
      "outputs": [
        {
          "output_type": "stream",
          "name": "stdout",
          "text": [
            "Mounted at /content/drive\n"
          ]
        }
      ]
    },
    {
      "cell_type": "code",
      "source": [
        "os.chdir(\"/content/drive/MyDrive/datos_python\") # configuramos directorio, según el nombre de nuestra carpeta"
      ],
      "metadata": {
        "id": "JuAVQ6fmtqXD"
      },
      "execution_count": 3,
      "outputs": []
    },
    {
      "cell_type": "code",
      "source": [
        "import pandas as pd # librería necesaria para importar dfs\n",
        "\n",
        "# Importar conjuntos de datos\n",
        "enaho_educa = pd.read_csv('Enaho01A-2023-300.csv', encoding='ISO-8859-10') # módulo educación\n",
        "enaho_trabajo = pd.read_csv('Enaho01a-2023-500.csv', encoding='ISO-8859-10') # módulo trabajo\n",
        "\n",
        "# Ojeamos las primeras filas para asegurarnos de que todo cargó O.K.\n",
        "print(enaho_trabajo.head())\n",
        "print(enaho_educa.head())"
      ],
      "metadata": {
        "colab": {
          "base_uri": "https://localhost:8080/"
        },
        "id": "AFIHFQT1dBVt",
        "outputId": "387905f2-2377-4330-a6a1-ce1ff7604efc",
        "collapsed": true
      },
      "execution_count": 4,
      "outputs": [
        {
          "output_type": "stream",
          "name": "stderr",
          "text": [
            "<ipython-input-4-436a08f63868>:4: DtypeWarning: Columns (26,32,60) have mixed types. Specify dtype option on import or set low_memory=False.\n",
            "  enaho_educa = pd.read_csv('Enaho01A-2023-300.csv', encoding='ISO-8859-10') # módulo educación\n",
            "<ipython-input-4-436a08f63868>:5: DtypeWarning: Columns (218,223,228,231,234,235,236,241,246,251,256,261,266,271,276,281,286,291,296,301,306,311,316,321,326,331,338,341,344,347,350,353,356,359,363,365,367,369,371,373,375,377,379,381,385,386,387,388,389,393,485,486,487,488,935,936,937,938,939,940,941,942,943,944,1015,1018,1023) have mixed types. Specify dtype option on import or set low_memory=False.\n",
            "  enaho_trabajo = pd.read_csv('Enaho01a-2023-500.csv', encoding='ISO-8859-10') # módulo trabajo\n"
          ]
        },
        {
          "output_type": "stream",
          "name": "stdout",
          "text": [
            "    AŅO  MES  CONGLOME  VIVIENDA  HOGAR  CODPERSO  UBIGEO  DOMINIO  ESTRATO  \\\n",
            "0  2023    1      5030         2     11         1   10201        7        4   \n",
            "1  2023    1      5030         2     11         2   10201        7        4   \n",
            "2  2023    1      5030        11     11         1   10201        7        4   \n",
            "3  2023    1      5030        11     11         2   10201        7        4   \n",
            "4  2023    1      5030        11     11         3   10201        7        4   \n",
            "\n",
            "   CODINFOR  ...  I538E1  I5294B  I5404B  I541A  OCU500  OCUPINF  EMPLPSEC  \\\n",
            "0         1  ...                                      1        2             \n",
            "1         2  ...                                      1        2             \n",
            "2         1  ...                                      1        1         1   \n",
            "3         2  ...                                      1        1         1   \n",
            "4         3  ...                                      1        1         1   \n",
            "\n",
            "      FAC500A  NCONGLOME SUB_CONGLOME  \n",
            "0  165.623856       6618            0  \n",
            "1  112.328087       6618            0  \n",
            "2   96.035370       6618            0  \n",
            "3   86.868881       6618            0  \n",
            "4  185.492355       6618            0  \n",
            "\n",
            "[5 rows x 1414 columns]\n",
            "    AŅO  MES  CONGLOME  VIVIENDA  HOGAR  CODPERSO  UBIGEO  DOMINIO  ESTRATO  \\\n",
            "0  2023    1      5030         2     11         1   10201        7        4   \n",
            "1  2023    1      5030         2     11         2   10201        7        4   \n",
            "2  2023    1      5030         2     11         3   10201        7        4   \n",
            "3  2023    1      5030         2     11         4   10201        7        4   \n",
            "4  2023    1      5030        11     11         1   10201        7        4   \n",
            "\n",
            "   CODINFOR  ...  I311D$5  I311D$6  I311D$7  I3121C I3122C I315B    FACTOR07  \\\n",
            "0         1  ...                                                  118.374542   \n",
            "1         2  ...                                                  118.374542   \n",
            "2         2  ...                                                  118.374542   \n",
            "3         2  ...                          8                       118.374542   \n",
            "4         1  ...                                                  118.374542   \n",
            "\n",
            "    FACTORA07 NCONGLOME SUB_CONGLOME  \n",
            "0  165.623856      6618            0  \n",
            "1  112.328087      6618            0  \n",
            "2  120.091476      6618            0  \n",
            "3  110.974678      6618            0  \n",
            "4   96.035370      6618            0  \n",
            "\n",
            "[5 rows x 511 columns]\n"
          ]
        }
      ]
    },
    {
      "cell_type": "markdown",
      "source": [
        "## 2. Explorando los datos"
      ],
      "metadata": {
        "id": "9ffWUVSjUo2e"
      }
    },
    {
      "cell_type": "markdown",
      "source": [
        "Antes de hacer la unión, es importante entender la estructura de ambas bases, para identificar las columnas que usaremos para juntarlas (aquella(s) que tengan en común)"
      ],
      "metadata": {
        "id": "WvFwGNDCUwDI"
      }
    },
    {
      "cell_type": "code",
      "source": [
        "# Checkeamos las estructura de cada base o df\n",
        "print(enaho_trabajo.info())\n",
        "print(enaho_educa.info())\n",
        "\n",
        "# Buscamos columnas en común para juntar (como, household IDs, individual IDs)\n",
        "common_columns = set(enaho_trabajo.columns).intersection(set(enaho_educa.columns))\n",
        "print(\"Common columns:\", common_columns)\n",
        "\n",
        "# cuando estamos seguros de esta información, podemos obviar este paso\n"
      ],
      "metadata": {
        "id": "c_H8jw_BUmYw",
        "colab": {
          "base_uri": "https://localhost:8080/"
        },
        "outputId": "ab450bf3-72ff-40fd-d185-d074a613fb51"
      },
      "execution_count": 5,
      "outputs": [
        {
          "output_type": "stream",
          "name": "stdout",
          "text": [
            "<class 'pandas.core.frame.DataFrame'>\n",
            "RangeIndex: 86654 entries, 0 to 86653\n",
            "Columns: 1414 entries, AŅO to SUB_CONGLOME\n",
            "dtypes: float64(1), int64(28), object(1385)\n",
            "memory usage: 934.8+ MB\n",
            "None\n",
            "<class 'pandas.core.frame.DataFrame'>\n",
            "RangeIndex: 108354 entries, 0 to 108353\n",
            "Columns: 511 entries, AŅO to SUB_CONGLOME\n",
            "dtypes: float64(2), int64(21), object(488)\n",
            "memory usage: 422.4+ MB\n",
            "None\n",
            "Common columns: {'TICUEST01A', 'CODPERSO', 'P207', 'SUB_CONGLOME', 'CONGLOME', 'NCONGLOME', 'AŅO', 'P206', 'MES', 'P205', 'P209', 'UBIGEO', 'P301A', 'CODINFOR', 'VIVIENDA', 'P203', 'IMPUTADO', 'P208A', 'DOMINIO', 'HOGAR', 'P204', 'ESTRATO'}\n"
          ]
        }
      ]
    },
    {
      "cell_type": "markdown",
      "source": [
        "La parte final del código, \"Common columns\" (columnas en común), nos indica lo que queremos saber: aquellas variables que comparten nuestras bases de datos o *dataframes*. Sin embargo, es preciso indicar que no es igual de válido hacer la unión de las bases a partir de cualquier columna común, sino a partir de aquellas que representen un identificador único para cada caso (encuestado/a). En el caso de la Enaho, este identificador es un código compuesto por 5 variables: 'MES', 'CONGLOME', 'VIVIENDA', 'HOGAR', 'CODPERSO'.\n",
        "\n",
        "Ahora sí, vamos con la unión de dataframes."
      ],
      "metadata": {
        "id": "ayD6meF4sOW6"
      }
    },
    {
      "cell_type": "markdown",
      "source": [
        "## 3. Uniendo las bases de datos"
      ],
      "metadata": {
        "id": "Yg1SDeYSVvbb"
      }
    },
    {
      "cell_type": "code",
      "source": [
        "# Hacemos el merge a partir de la columna en común\n",
        "\n",
        "columnas_comunes = ['MES', 'CONGLOME', 'VIVIENDA', 'HOGAR', 'CODPERSO']\n",
        "enaho_unido = pd.merge(enaho_educa, enaho_trabajo, on=columnas_comunes, how='inner')\n",
        "\n",
        "# Mostramos las primeras filas del dataframe (df) unido\n",
        "print(enaho_unido.head())\n",
        "\n",
        "# ahora tenemos 1921 columnas"
      ],
      "metadata": {
        "id": "-D8iEh1_UmmA",
        "colab": {
          "base_uri": "https://localhost:8080/"
        },
        "outputId": "129db593-c3e8-4d9e-cd5c-09d481071563"
      },
      "execution_count": 6,
      "outputs": [
        {
          "output_type": "stream",
          "name": "stdout",
          "text": [
            "   AŅO_x  MES  CONGLOME  VIVIENDA  HOGAR  CODPERSO  UBIGEO_x  DOMINIO_x  \\\n",
            "0   2023    1      5030         2     11         1     10201          7   \n",
            "1   2023    1      5030         2     11         2     10201          7   \n",
            "2   2023    1      5030        11     11         1     10201          7   \n",
            "3   2023    1      5030        11     11         2     10201          7   \n",
            "4   2023    1      5030        11     11         3     10201          7   \n",
            "\n",
            "   ESTRATO_x  CODINFOR_x  ...  I538E1  I5294B  I5404B  I541A OCU500 OCUPINF  \\\n",
            "0          4           1  ...                                     1       2   \n",
            "1          4           2  ...                                     1       2   \n",
            "2          4           1  ...                                     1       1   \n",
            "3          4           2  ...                                     1       1   \n",
            "4          4           3  ...                                     1       1   \n",
            "\n",
            "  EMPLPSEC     FAC500A NCONGLOME_y SUB_CONGLOME_y  \n",
            "0           165.623856        6618              0  \n",
            "1           112.328087        6618              0  \n",
            "2        1   96.035370        6618              0  \n",
            "3        1   86.868881        6618              0  \n",
            "4        1  185.492355        6618              0  \n",
            "\n",
            "[5 rows x 1920 columns]\n"
          ]
        }
      ]
    },
    {
      "cell_type": "markdown",
      "source": [
        "Ahora pasamos a confirmar que las variables que nos interesa analizar están en el df unido."
      ],
      "metadata": {
        "id": "ZAoz5CY7tqYL"
      }
    },
    {
      "cell_type": "code",
      "source": [
        "# imprimos el resultado de:\n",
        "print(enaho_unido['P301A'])\n",
        "# llamar la variable 'P301A'\n",
        "# del dataframe enaho_unido"
      ],
      "metadata": {
        "colab": {
          "base_uri": "https://localhost:8080/",
          "height": 547
        },
        "id": "otfgSyW6L97L",
        "outputId": "69532451-bce2-4406-b54d-1b86fea39517"
      },
      "execution_count": 7,
      "outputs": [
        {
          "output_type": "error",
          "ename": "KeyError",
          "evalue": "'P301A'",
          "traceback": [
            "\u001b[0;31m---------------------------------------------------------------------------\u001b[0m",
            "\u001b[0;31mKeyError\u001b[0m                                  Traceback (most recent call last)",
            "\u001b[0;32m/usr/local/lib/python3.11/dist-packages/pandas/core/indexes/base.py\u001b[0m in \u001b[0;36mget_loc\u001b[0;34m(self, key)\u001b[0m\n\u001b[1;32m   3804\u001b[0m         \u001b[0;32mtry\u001b[0m\u001b[0;34m:\u001b[0m\u001b[0;34m\u001b[0m\u001b[0;34m\u001b[0m\u001b[0m\n\u001b[0;32m-> 3805\u001b[0;31m             \u001b[0;32mreturn\u001b[0m \u001b[0mself\u001b[0m\u001b[0;34m.\u001b[0m\u001b[0m_engine\u001b[0m\u001b[0;34m.\u001b[0m\u001b[0mget_loc\u001b[0m\u001b[0;34m(\u001b[0m\u001b[0mcasted_key\u001b[0m\u001b[0;34m)\u001b[0m\u001b[0;34m\u001b[0m\u001b[0;34m\u001b[0m\u001b[0m\n\u001b[0m\u001b[1;32m   3806\u001b[0m         \u001b[0;32mexcept\u001b[0m \u001b[0mKeyError\u001b[0m \u001b[0;32mas\u001b[0m \u001b[0merr\u001b[0m\u001b[0;34m:\u001b[0m\u001b[0;34m\u001b[0m\u001b[0;34m\u001b[0m\u001b[0m\n",
            "\u001b[0;32mindex.pyx\u001b[0m in \u001b[0;36mpandas._libs.index.IndexEngine.get_loc\u001b[0;34m()\u001b[0m\n",
            "\u001b[0;32mindex.pyx\u001b[0m in \u001b[0;36mpandas._libs.index.IndexEngine.get_loc\u001b[0;34m()\u001b[0m\n",
            "\u001b[0;32mpandas/_libs/hashtable_class_helper.pxi\u001b[0m in \u001b[0;36mpandas._libs.hashtable.PyObjectHashTable.get_item\u001b[0;34m()\u001b[0m\n",
            "\u001b[0;32mpandas/_libs/hashtable_class_helper.pxi\u001b[0m in \u001b[0;36mpandas._libs.hashtable.PyObjectHashTable.get_item\u001b[0;34m()\u001b[0m\n",
            "\u001b[0;31mKeyError\u001b[0m: 'P301A'",
            "\nThe above exception was the direct cause of the following exception:\n",
            "\u001b[0;31mKeyError\u001b[0m                                  Traceback (most recent call last)",
            "\u001b[0;32m<ipython-input-7-69c858135c62>\u001b[0m in \u001b[0;36m<cell line: 0>\u001b[0;34m()\u001b[0m\n\u001b[1;32m      1\u001b[0m \u001b[0;31m# imprimos el resultado de:\u001b[0m\u001b[0;34m\u001b[0m\u001b[0;34m\u001b[0m\u001b[0m\n\u001b[0;32m----> 2\u001b[0;31m \u001b[0mprint\u001b[0m\u001b[0;34m(\u001b[0m\u001b[0menaho_unido\u001b[0m\u001b[0;34m[\u001b[0m\u001b[0;34m'P301A'\u001b[0m\u001b[0;34m]\u001b[0m\u001b[0;34m)\u001b[0m\u001b[0;34m\u001b[0m\u001b[0;34m\u001b[0m\u001b[0m\n\u001b[0m\u001b[1;32m      3\u001b[0m \u001b[0;31m# llamar la variable 'P301A'\u001b[0m\u001b[0;34m\u001b[0m\u001b[0;34m\u001b[0m\u001b[0m\n\u001b[1;32m      4\u001b[0m \u001b[0;31m# del dataframe enaho_unido\u001b[0m\u001b[0;34m\u001b[0m\u001b[0;34m\u001b[0m\u001b[0m\n",
            "\u001b[0;32m/usr/local/lib/python3.11/dist-packages/pandas/core/frame.py\u001b[0m in \u001b[0;36m__getitem__\u001b[0;34m(self, key)\u001b[0m\n\u001b[1;32m   4100\u001b[0m             \u001b[0;32mif\u001b[0m \u001b[0mself\u001b[0m\u001b[0;34m.\u001b[0m\u001b[0mcolumns\u001b[0m\u001b[0;34m.\u001b[0m\u001b[0mnlevels\u001b[0m \u001b[0;34m>\u001b[0m \u001b[0;36m1\u001b[0m\u001b[0;34m:\u001b[0m\u001b[0;34m\u001b[0m\u001b[0;34m\u001b[0m\u001b[0m\n\u001b[1;32m   4101\u001b[0m                 \u001b[0;32mreturn\u001b[0m \u001b[0mself\u001b[0m\u001b[0;34m.\u001b[0m\u001b[0m_getitem_multilevel\u001b[0m\u001b[0;34m(\u001b[0m\u001b[0mkey\u001b[0m\u001b[0;34m)\u001b[0m\u001b[0;34m\u001b[0m\u001b[0;34m\u001b[0m\u001b[0m\n\u001b[0;32m-> 4102\u001b[0;31m             \u001b[0mindexer\u001b[0m \u001b[0;34m=\u001b[0m \u001b[0mself\u001b[0m\u001b[0;34m.\u001b[0m\u001b[0mcolumns\u001b[0m\u001b[0;34m.\u001b[0m\u001b[0mget_loc\u001b[0m\u001b[0;34m(\u001b[0m\u001b[0mkey\u001b[0m\u001b[0;34m)\u001b[0m\u001b[0;34m\u001b[0m\u001b[0;34m\u001b[0m\u001b[0m\n\u001b[0m\u001b[1;32m   4103\u001b[0m             \u001b[0;32mif\u001b[0m \u001b[0mis_integer\u001b[0m\u001b[0;34m(\u001b[0m\u001b[0mindexer\u001b[0m\u001b[0;34m)\u001b[0m\u001b[0;34m:\u001b[0m\u001b[0;34m\u001b[0m\u001b[0;34m\u001b[0m\u001b[0m\n\u001b[1;32m   4104\u001b[0m                 \u001b[0mindexer\u001b[0m \u001b[0;34m=\u001b[0m \u001b[0;34m[\u001b[0m\u001b[0mindexer\u001b[0m\u001b[0;34m]\u001b[0m\u001b[0;34m\u001b[0m\u001b[0;34m\u001b[0m\u001b[0m\n",
            "\u001b[0;32m/usr/local/lib/python3.11/dist-packages/pandas/core/indexes/base.py\u001b[0m in \u001b[0;36mget_loc\u001b[0;34m(self, key)\u001b[0m\n\u001b[1;32m   3810\u001b[0m             ):\n\u001b[1;32m   3811\u001b[0m                 \u001b[0;32mraise\u001b[0m \u001b[0mInvalidIndexError\u001b[0m\u001b[0;34m(\u001b[0m\u001b[0mkey\u001b[0m\u001b[0;34m)\u001b[0m\u001b[0;34m\u001b[0m\u001b[0;34m\u001b[0m\u001b[0m\n\u001b[0;32m-> 3812\u001b[0;31m             \u001b[0;32mraise\u001b[0m \u001b[0mKeyError\u001b[0m\u001b[0;34m(\u001b[0m\u001b[0mkey\u001b[0m\u001b[0;34m)\u001b[0m \u001b[0;32mfrom\u001b[0m \u001b[0merr\u001b[0m\u001b[0;34m\u001b[0m\u001b[0;34m\u001b[0m\u001b[0m\n\u001b[0m\u001b[1;32m   3813\u001b[0m         \u001b[0;32mexcept\u001b[0m \u001b[0mTypeError\u001b[0m\u001b[0;34m:\u001b[0m\u001b[0;34m\u001b[0m\u001b[0;34m\u001b[0m\u001b[0m\n\u001b[1;32m   3814\u001b[0m             \u001b[0;31m# If we have a listlike key, _check_indexing_error will raise\u001b[0m\u001b[0;34m\u001b[0m\u001b[0;34m\u001b[0m\u001b[0m\n",
            "\u001b[0;31mKeyError\u001b[0m: 'P301A'"
          ]
        }
      ]
    },
    {
      "cell_type": "code",
      "source": [
        "print(enaho_educa['P301A'])"
      ],
      "metadata": {
        "colab": {
          "base_uri": "https://localhost:8080/"
        },
        "id": "rGzjhPg0Z2Nn",
        "outputId": "f55ea954-fa76-476e-f017-e0ac2cc338d8"
      },
      "execution_count": 8,
      "outputs": [
        {
          "output_type": "stream",
          "name": "stdout",
          "text": [
            "0          8\n",
            "1         10\n",
            "2          3\n",
            "3          3\n",
            "4          4\n",
            "          ..\n",
            "108349     1\n",
            "108350     5\n",
            "108351     3\n",
            "108352     4\n",
            "108353     6\n",
            "Name: P301A, Length: 108354, dtype: int64\n"
          ]
        }
      ]
    },
    {
      "cell_type": "markdown",
      "source": [
        "Al parecer P301A no está en enaho_unido, pero sí en la versión original, enaho_educa"
      ],
      "metadata": {
        "id": "fyTDuLT8ZtK8"
      }
    },
    {
      "cell_type": "code",
      "source": [
        "print(enaho_unido['P302'])"
      ],
      "metadata": {
        "colab": {
          "base_uri": "https://localhost:8080/"
        },
        "id": "TzBYV7t-L-Il",
        "outputId": "7c07289f-4f18-4c0c-96ab-d7d603f33684"
      },
      "execution_count": 9,
      "outputs": [
        {
          "output_type": "stream",
          "name": "stdout",
          "text": [
            "0         \n",
            "1         \n",
            "2         \n",
            "3         \n",
            "4         \n",
            "        ..\n",
            "86649    2\n",
            "86650     \n",
            "86651    1\n",
            "86652     \n",
            "86653     \n",
            "Name: P302, Length: 86654, dtype: object\n"
          ]
        }
      ]
    },
    {
      "cell_type": "code",
      "source": [
        "print(enaho_unido['P300A'])"
      ],
      "metadata": {
        "colab": {
          "base_uri": "https://localhost:8080/"
        },
        "id": "hTm62Ah3L-XN",
        "outputId": "bccba955-2dda-4137-a927-f1353efa28f8"
      },
      "execution_count": 10,
      "outputs": [
        {
          "output_type": "stream",
          "name": "stdout",
          "text": [
            "0        4\n",
            "1        4\n",
            "2        4\n",
            "3        4\n",
            "4        4\n",
            "        ..\n",
            "86649    4\n",
            "86650    4\n",
            "86651    4\n",
            "86652    4\n",
            "86653    4\n",
            "Name: P300A, Length: 86654, dtype: int64\n"
          ]
        }
      ]
    },
    {
      "cell_type": "code",
      "source": [
        "print(enaho_unido['P524A1'])"
      ],
      "metadata": {
        "colab": {
          "base_uri": "https://localhost:8080/"
        },
        "id": "8SoIqEglL-kj",
        "outputId": "dd4e0073-0bd0-41db-983a-c8f0b0da61f8"
      },
      "execution_count": 11,
      "outputs": [
        {
          "output_type": "stream",
          "name": "stdout",
          "text": [
            "0        1800\n",
            "1            \n",
            "2            \n",
            "3            \n",
            "4            \n",
            "         ... \n",
            "86649        \n",
            "86650        \n",
            "86651        \n",
            "86652        \n",
            "86653     120\n",
            "Name: P524A1, Length: 86654, dtype: object\n"
          ]
        }
      ]
    },
    {
      "cell_type": "code",
      "source": [
        "print(enaho_unido['P523'])"
      ],
      "metadata": {
        "colab": {
          "base_uri": "https://localhost:8080/"
        },
        "id": "SfwCismRZoeT",
        "outputId": "bdf09a93-650b-48a4-ce7f-7895ade47daf"
      },
      "execution_count": 12,
      "outputs": [
        {
          "output_type": "stream",
          "name": "stdout",
          "text": [
            "0        4\n",
            "1         \n",
            "2         \n",
            "3         \n",
            "4         \n",
            "        ..\n",
            "86649     \n",
            "86650     \n",
            "86651     \n",
            "86652     \n",
            "86653    2\n",
            "Name: P523, Length: 86654, dtype: object\n"
          ]
        }
      ]
    },
    {
      "cell_type": "markdown",
      "source": [
        "# **Sección 2: Generación de estadísticos descriptivos: tablas de frecuencia y análisis de distribución de datos**"
      ],
      "metadata": {
        "id": "zBH2NV1nqlfu"
      }
    },
    {
      "cell_type": "markdown",
      "source": [
        "Trabajaremos con 3 variables categóricas y una variable numérica que crearemos a partir de otras dos:\n",
        "\n",
        "1.   El último año o grado de estudios y nivel que aprobó la persona (P301A)\n",
        "2.   Si la persona sabe leer y escribir (P302A)\n",
        "3.   El idioma o lengua materna que aprendió la persona en su niñez (P300)\n",
        "4.   Ingreso diario promedio en soles de la persona (P523 y P524A1)"
      ],
      "metadata": {
        "id": "mLIT8s9erXVp"
      }
    },
    {
      "cell_type": "markdown",
      "source": [
        "Las **variables categóricas** contienen un número finito de categorías o grupos distintos. Los datos categóricos pueden no tener un orden lógico. Por ejemplo, los predictores categóricos incluyen sexo, tipo de material y método de pago.\n",
        "\n",
        "*Fuente: Minitab*"
      ],
      "metadata": {
        "id": "E0k1WHLMuGtD"
      }
    },
    {
      "cell_type": "markdown",
      "source": [
        "Primero veamos la distribución de nuestra muestra en cada categoría, en términos absolutos y porcentuales, por separado en cada variable. El análisis de una variable categórica (ordinal o nominal) puede incluir elementos como:\n",
        "\n",
        "• los **niveles** que tiene la variable\n",
        "\n",
        "• si los datos se distribuyen **uniformemente** o no\n",
        "\n",
        "• la **proporción** sobre el total que representa cada nivel"
      ],
      "metadata": {
        "id": "OLp7kBt_uU7K"
      }
    },
    {
      "cell_type": "markdown",
      "source": [
        "### 1. Último grado de estudios que aprobó la persona(P301A)"
      ],
      "metadata": {
        "id": "7BkU-WeTA-8f"
      }
    },
    {
      "cell_type": "code",
      "source": [
        "# analizar la distribución en este caso es tan sencillo como contar los valores en cada categoría\n",
        "enaho_educa.value_counts('P301A',\n",
        "                         sort = False) # sort es ordenar. cuando especificamos que es falso, Python ordena en función a nuestras categorías\n",
        "\n",
        "# cuando decimos que es verdadero, ordena en función la distribución de valores"
      ],
      "metadata": {
        "colab": {
          "base_uri": "https://localhost:8080/",
          "height": 523
        },
        "id": "y5vdvv-qA_KG",
        "outputId": "86f7478d-f5c2-443c-d5cd-2d19552e2a0c"
      },
      "execution_count": 13,
      "outputs": [
        {
          "output_type": "execute_result",
          "data": {
            "text/plain": [
              "P301A\n",
              "1      6520\n",
              "2      5039\n",
              "3     21480\n",
              "4     11748\n",
              "5     16691\n",
              "6     22576\n",
              "7      3991\n",
              "8      6916\n",
              "9      5203\n",
              "10     6674\n",
              "11     1304\n",
              "12      107\n",
              "99      105\n",
              "Name: count, dtype: int64"
            ],
            "text/html": [
              "<div>\n",
              "<style scoped>\n",
              "    .dataframe tbody tr th:only-of-type {\n",
              "        vertical-align: middle;\n",
              "    }\n",
              "\n",
              "    .dataframe tbody tr th {\n",
              "        vertical-align: top;\n",
              "    }\n",
              "\n",
              "    .dataframe thead th {\n",
              "        text-align: right;\n",
              "    }\n",
              "</style>\n",
              "<table border=\"1\" class=\"dataframe\">\n",
              "  <thead>\n",
              "    <tr style=\"text-align: right;\">\n",
              "      <th></th>\n",
              "      <th>count</th>\n",
              "    </tr>\n",
              "    <tr>\n",
              "      <th>P301A</th>\n",
              "      <th></th>\n",
              "    </tr>\n",
              "  </thead>\n",
              "  <tbody>\n",
              "    <tr>\n",
              "      <th>1</th>\n",
              "      <td>6520</td>\n",
              "    </tr>\n",
              "    <tr>\n",
              "      <th>2</th>\n",
              "      <td>5039</td>\n",
              "    </tr>\n",
              "    <tr>\n",
              "      <th>3</th>\n",
              "      <td>21480</td>\n",
              "    </tr>\n",
              "    <tr>\n",
              "      <th>4</th>\n",
              "      <td>11748</td>\n",
              "    </tr>\n",
              "    <tr>\n",
              "      <th>5</th>\n",
              "      <td>16691</td>\n",
              "    </tr>\n",
              "    <tr>\n",
              "      <th>6</th>\n",
              "      <td>22576</td>\n",
              "    </tr>\n",
              "    <tr>\n",
              "      <th>7</th>\n",
              "      <td>3991</td>\n",
              "    </tr>\n",
              "    <tr>\n",
              "      <th>8</th>\n",
              "      <td>6916</td>\n",
              "    </tr>\n",
              "    <tr>\n",
              "      <th>9</th>\n",
              "      <td>5203</td>\n",
              "    </tr>\n",
              "    <tr>\n",
              "      <th>10</th>\n",
              "      <td>6674</td>\n",
              "    </tr>\n",
              "    <tr>\n",
              "      <th>11</th>\n",
              "      <td>1304</td>\n",
              "    </tr>\n",
              "    <tr>\n",
              "      <th>12</th>\n",
              "      <td>107</td>\n",
              "    </tr>\n",
              "    <tr>\n",
              "      <th>99</th>\n",
              "      <td>105</td>\n",
              "    </tr>\n",
              "  </tbody>\n",
              "</table>\n",
              "</div><br><label><b>dtype:</b> int64</label>"
            ]
          },
          "metadata": {},
          "execution_count": 13
        }
      ]
    },
    {
      "cell_type": "markdown",
      "source": [
        "Ahora veamos una manera más **pro** de hacer esto. Para hacer más amigable la interpretación:\n",
        "1. Recodificamos las variables con los valores del dicionario ENAHO\n",
        "\n",
        "2. Aplicamos distribución porcentual"
      ],
      "metadata": {
        "id": "npoxTxp2BTSB"
      }
    },
    {
      "cell_type": "code",
      "source": [
        "# antes de recodificar, comprobemos la estructura de los datos\n",
        "enaho_educa['P301A'].unique()\n",
        "# 99 representa missing values"
      ],
      "metadata": {
        "colab": {
          "base_uri": "https://localhost:8080/"
        },
        "id": "f1MhxTl0BW2C",
        "outputId": "d11f3342-e561-46b8-c210-8e3653f799e1"
      },
      "execution_count": 14,
      "outputs": [
        {
          "output_type": "execute_result",
          "data": {
            "text/plain": [
              "array([ 8, 10,  3,  4,  5,  6,  2,  9,  1,  7, 11, 12, 99])"
            ]
          },
          "metadata": {},
          "execution_count": 14
        }
      ]
    },
    {
      "cell_type": "code",
      "source": [
        "# con la función \"replace\" reemplazamos valores. Para esto, creamos un diccionario con nuestros valores.\n",
        "\n",
        "# vamos a guardar el resultado en enaho_unido con el mismo nombre\n",
        "\n",
        "enaho_unido['P301A'] = enaho_educa['P301A'].replace({1: 'Sin nivel',\n",
        "    2: 'Educación inicial',\n",
        "    3: 'Primaria incompleta',\n",
        "    4: 'Primaria completa',\n",
        "    5: 'Secundaria incompleta',\n",
        "    6: 'Secundaria completa',\n",
        "    7: 'Superior no universitaria incompleta',\n",
        "    8: 'Superior no universitaria completa',\n",
        "    9: 'Superior universitaria incompleta',\n",
        "    10: 'Superior universitaria completa',\n",
        "    11: 'Maestría/Doctorado',\n",
        "    12: 'Básica especial',\n",
        "    99: 'Missing value'})\n",
        "\n",
        "# el objetivo de guardarla en enaho_unido es luego hacer un análisis cruzado con una variable de educación y otra de trabajo"
      ],
      "metadata": {
        "id": "v1FzJYmGBv2D"
      },
      "execution_count": 15,
      "outputs": []
    },
    {
      "cell_type": "code",
      "source": [
        "# Ahora vemos la distribución porcentual (normalizamos distribución del 0 al 1 y luego multiplicamos por 100)\n",
        "\n",
        "enaho_unido.value_counts('P301A', normalize=True)*100\n",
        "\n",
        "# Antes de agregar esos parámetros, podemos hacer un conteo\n",
        "# Como se puede ver, hemos perdido casos, debido a que enaho_unido tiene más casos que enaho_trabajo"
      ],
      "metadata": {
        "colab": {
          "base_uri": "https://localhost:8080/",
          "height": 523
        },
        "id": "RdtAjo2NBv8C",
        "outputId": "daa19c8a-6652-49f0-d155-52c070444fe1"
      },
      "execution_count": 16,
      "outputs": [
        {
          "output_type": "execute_result",
          "data": {
            "text/plain": [
              "P301A\n",
              "Secundaria completa                     20.806887\n",
              "Primaria incompleta                     19.737115\n",
              "Secundaria incompleta                   15.316085\n",
              "Primaria completa                       10.854663\n",
              "Superior no universitaria completa       6.447481\n",
              "Superior universitaria completa          6.278995\n",
              "Sin nivel                                5.885476\n",
              "Superior universitaria incompleta        4.956494\n",
              "Educación inicial                        4.599903\n",
              "Superior no universitaria incompleta     3.696309\n",
              "Maestría/Doctorado                       1.229026\n",
              "Básica especial                          0.107323\n",
              "Missing value                            0.084243\n",
              "Name: proportion, dtype: float64"
            ],
            "text/html": [
              "<div>\n",
              "<style scoped>\n",
              "    .dataframe tbody tr th:only-of-type {\n",
              "        vertical-align: middle;\n",
              "    }\n",
              "\n",
              "    .dataframe tbody tr th {\n",
              "        vertical-align: top;\n",
              "    }\n",
              "\n",
              "    .dataframe thead th {\n",
              "        text-align: right;\n",
              "    }\n",
              "</style>\n",
              "<table border=\"1\" class=\"dataframe\">\n",
              "  <thead>\n",
              "    <tr style=\"text-align: right;\">\n",
              "      <th></th>\n",
              "      <th>proportion</th>\n",
              "    </tr>\n",
              "    <tr>\n",
              "      <th>P301A</th>\n",
              "      <th></th>\n",
              "    </tr>\n",
              "  </thead>\n",
              "  <tbody>\n",
              "    <tr>\n",
              "      <th>Secundaria completa</th>\n",
              "      <td>20.806887</td>\n",
              "    </tr>\n",
              "    <tr>\n",
              "      <th>Primaria incompleta</th>\n",
              "      <td>19.737115</td>\n",
              "    </tr>\n",
              "    <tr>\n",
              "      <th>Secundaria incompleta</th>\n",
              "      <td>15.316085</td>\n",
              "    </tr>\n",
              "    <tr>\n",
              "      <th>Primaria completa</th>\n",
              "      <td>10.854663</td>\n",
              "    </tr>\n",
              "    <tr>\n",
              "      <th>Superior no universitaria completa</th>\n",
              "      <td>6.447481</td>\n",
              "    </tr>\n",
              "    <tr>\n",
              "      <th>Superior universitaria completa</th>\n",
              "      <td>6.278995</td>\n",
              "    </tr>\n",
              "    <tr>\n",
              "      <th>Sin nivel</th>\n",
              "      <td>5.885476</td>\n",
              "    </tr>\n",
              "    <tr>\n",
              "      <th>Superior universitaria incompleta</th>\n",
              "      <td>4.956494</td>\n",
              "    </tr>\n",
              "    <tr>\n",
              "      <th>Educación inicial</th>\n",
              "      <td>4.599903</td>\n",
              "    </tr>\n",
              "    <tr>\n",
              "      <th>Superior no universitaria incompleta</th>\n",
              "      <td>3.696309</td>\n",
              "    </tr>\n",
              "    <tr>\n",
              "      <th>Maestría/Doctorado</th>\n",
              "      <td>1.229026</td>\n",
              "    </tr>\n",
              "    <tr>\n",
              "      <th>Básica especial</th>\n",
              "      <td>0.107323</td>\n",
              "    </tr>\n",
              "    <tr>\n",
              "      <th>Missing value</th>\n",
              "      <td>0.084243</td>\n",
              "    </tr>\n",
              "  </tbody>\n",
              "</table>\n",
              "</div><br><label><b>dtype:</b> float64</label>"
            ]
          },
          "metadata": {},
          "execution_count": 16
        }
      ]
    },
    {
      "cell_type": "markdown",
      "source": [
        "### 2. La persona sabe leer y escribir (P302)"
      ],
      "metadata": {
        "id": "ljV8XnXsCUR6"
      }
    },
    {
      "cell_type": "markdown",
      "source": [
        "Esta variable la analizaremos y recodificaremos dentro del mismo enaho_educa, pues no planeamos usarla para análisis cruzado más adelante."
      ],
      "metadata": {
        "id": "5jQOtpfcCdGr"
      }
    },
    {
      "cell_type": "code",
      "source": [
        "# analizar la distribución en este caso es tan sencillo como contar los valores en cada categoría\n",
        "enaho_educa.value_counts('P302', normalize = False, # le agregamos esto para que deje de normalizar, a veces se le queda y lo hace automático\n",
        "                         sort = False) # sort es ordenar. cuando especificamos que es falso, Python ordena en función a nuestras categorías\n",
        "# cuando decimos que es verdadero, ordena en función la distribución de valores"
      ],
      "metadata": {
        "colab": {
          "base_uri": "https://localhost:8080/",
          "height": 241
        },
        "id": "SLWMP6vxCdQn",
        "outputId": "7e136d4a-e5e0-4982-cd90-95f48a0dc42b"
      },
      "execution_count": 17,
      "outputs": [
        {
          "output_type": "execute_result",
          "data": {
            "text/plain": [
              "P302\n",
              "     75103\n",
              "1    19509\n",
              "2    13637\n",
              "9      105\n",
              "Name: count, dtype: int64"
            ],
            "text/html": [
              "<div>\n",
              "<style scoped>\n",
              "    .dataframe tbody tr th:only-of-type {\n",
              "        vertical-align: middle;\n",
              "    }\n",
              "\n",
              "    .dataframe tbody tr th {\n",
              "        vertical-align: top;\n",
              "    }\n",
              "\n",
              "    .dataframe thead th {\n",
              "        text-align: right;\n",
              "    }\n",
              "</style>\n",
              "<table border=\"1\" class=\"dataframe\">\n",
              "  <thead>\n",
              "    <tr style=\"text-align: right;\">\n",
              "      <th></th>\n",
              "      <th>count</th>\n",
              "    </tr>\n",
              "    <tr>\n",
              "      <th>P302</th>\n",
              "      <th></th>\n",
              "    </tr>\n",
              "  </thead>\n",
              "  <tbody>\n",
              "    <tr>\n",
              "      <th></th>\n",
              "      <td>75103</td>\n",
              "    </tr>\n",
              "    <tr>\n",
              "      <th>1</th>\n",
              "      <td>19509</td>\n",
              "    </tr>\n",
              "    <tr>\n",
              "      <th>2</th>\n",
              "      <td>13637</td>\n",
              "    </tr>\n",
              "    <tr>\n",
              "      <th>9</th>\n",
              "      <td>105</td>\n",
              "    </tr>\n",
              "  </tbody>\n",
              "</table>\n",
              "</div><br><label><b>dtype:</b> int64</label>"
            ]
          },
          "metadata": {},
          "execution_count": 17
        }
      ]
    },
    {
      "cell_type": "code",
      "source": [
        "enaho_educa['P302'].unique() # Comprobamos que hay una clase de valores sueltos (sin etiquetas) en P302."
      ],
      "metadata": {
        "colab": {
          "base_uri": "https://localhost:8080/"
        },
        "id": "yslnfljbCdYl",
        "outputId": "0c5e5f5f-863c-4abd-abd5-4e47cb126b87"
      },
      "execution_count": 18,
      "outputs": [
        {
          "output_type": "execute_result",
          "data": {
            "text/plain": [
              "array([' ', '1', '2', '9'], dtype=object)"
            ]
          },
          "metadata": {},
          "execution_count": 18
        }
      ]
    },
    {
      "cell_type": "code",
      "source": [
        "enaho_educa['P302'].info() # Comprobamos que P302 y P301A tienen la misma estructura (objetos)"
      ],
      "metadata": {
        "colab": {
          "base_uri": "https://localhost:8080/"
        },
        "id": "9x0b-onnDYkF",
        "outputId": "06c2a2ca-f1b4-48da-d7db-3b0fb1feb6b9"
      },
      "execution_count": 19,
      "outputs": [
        {
          "output_type": "stream",
          "name": "stdout",
          "text": [
            "<class 'pandas.core.series.Series'>\n",
            "RangeIndex: 108354 entries, 0 to 108353\n",
            "Series name: P302\n",
            "Non-Null Count   Dtype \n",
            "--------------   ----- \n",
            "108354 non-null  object\n",
            "dtypes: object(1)\n",
            "memory usage: 846.6+ KB\n"
          ]
        }
      ]
    },
    {
      "cell_type": "code",
      "source": [
        "#  con la función \"replace\" reemplazamos valores. Para esto, creamos un diccionario con nuestros valores.\n",
        "enaho_educa['recode_P302'] = enaho_educa['P302'].replace({'1': 'Sabe leer y escribir',\n",
        "    '2': 'No sabe',\n",
        "    '9': 'Missing value'})"
      ],
      "metadata": {
        "id": "ETMG3hZ_DYrU"
      },
      "execution_count": 20,
      "outputs": []
    },
    {
      "cell_type": "code",
      "source": [
        "# ahora hacemos el conteo. Comprobamos que la distribución es la misma que con la variable original\n",
        "enaho_educa.value_counts('recode_P302', normalize = False)"
      ],
      "metadata": {
        "colab": {
          "base_uri": "https://localhost:8080/",
          "height": 241
        },
        "id": "3EN9SNCtDeIT",
        "outputId": "eafce1b5-a25f-409c-b0d5-39963d3b7d45"
      },
      "execution_count": 21,
      "outputs": [
        {
          "output_type": "execute_result",
          "data": {
            "text/plain": [
              "recode_P302\n",
              "                        75103\n",
              "Sabe leer y escribir    19509\n",
              "No sabe                 13637\n",
              "Missing value             105\n",
              "Name: count, dtype: int64"
            ],
            "text/html": [
              "<div>\n",
              "<style scoped>\n",
              "    .dataframe tbody tr th:only-of-type {\n",
              "        vertical-align: middle;\n",
              "    }\n",
              "\n",
              "    .dataframe tbody tr th {\n",
              "        vertical-align: top;\n",
              "    }\n",
              "\n",
              "    .dataframe thead th {\n",
              "        text-align: right;\n",
              "    }\n",
              "</style>\n",
              "<table border=\"1\" class=\"dataframe\">\n",
              "  <thead>\n",
              "    <tr style=\"text-align: right;\">\n",
              "      <th></th>\n",
              "      <th>count</th>\n",
              "    </tr>\n",
              "    <tr>\n",
              "      <th>recode_P302</th>\n",
              "      <th></th>\n",
              "    </tr>\n",
              "  </thead>\n",
              "  <tbody>\n",
              "    <tr>\n",
              "      <th></th>\n",
              "      <td>75103</td>\n",
              "    </tr>\n",
              "    <tr>\n",
              "      <th>Sabe leer y escribir</th>\n",
              "      <td>19509</td>\n",
              "    </tr>\n",
              "    <tr>\n",
              "      <th>No sabe</th>\n",
              "      <td>13637</td>\n",
              "    </tr>\n",
              "    <tr>\n",
              "      <th>Missing value</th>\n",
              "      <td>105</td>\n",
              "    </tr>\n",
              "  </tbody>\n",
              "</table>\n",
              "</div><br><label><b>dtype:</b> int64</label>"
            ]
          },
          "metadata": {},
          "execution_count": 21
        }
      ]
    },
    {
      "cell_type": "markdown",
      "source": [
        "Ahora vamos a asumir que la **ENAHO se equivocó**; es un poco imposible que tan pocas personas sepan leer y escribir. Por ejemplo, INEI reporta que según la ENAHO \"se encuentra alfabetizada el 96,3% de la población del área urbana del país y 85,4% del área rural\".\n",
        "\n",
        "Fuente: https://m.inei.gob.pe/prensa/noticias/cobertura-de-alfabetizacion-en-el-peru-llega-al-941-de-los-peruanos-de-15-a-mas-anos-de-edad-9949/"
      ],
      "metadata": {
        "id": "zezRqpAxD2Ld"
      }
    },
    {
      "cell_type": "markdown",
      "source": [
        "Así que vamos a recodificar el valor sin etiqueta como \"Sabe leer y escribir\", y los 1s y 2s como \"No sabe\"."
      ],
      "metadata": {
        "id": "4cOCxP8UD6Am"
      }
    },
    {
      "cell_type": "code",
      "source": [
        "enaho_educa['recode_P302'] = enaho_educa['P302'].replace({'1': 'Sabe leer y escribir',\n",
        "    '2': 'No sabe',\n",
        "    ' ': 'Sabe leer y escribir', # Más arriba vimos que hay una etiqueta que es literalmente un espacio ' '\n",
        "    '9': 'Missing value'})"
      ],
      "metadata": {
        "id": "Ph__r-u3DeLF"
      },
      "execution_count": 22,
      "outputs": []
    },
    {
      "cell_type": "code",
      "source": [
        "enaho_educa.value_counts('recode_P302', normalize = False)"
      ],
      "metadata": {
        "colab": {
          "base_uri": "https://localhost:8080/",
          "height": 210
        },
        "id": "tBP7QllADeNo",
        "outputId": "d891e729-8920-45bc-e912-bd63e0d7c5fc"
      },
      "execution_count": 23,
      "outputs": [
        {
          "output_type": "execute_result",
          "data": {
            "text/plain": [
              "recode_P302\n",
              "Sabe leer y escribir    94612\n",
              "No sabe                 13637\n",
              "Missing value             105\n",
              "Name: count, dtype: int64"
            ],
            "text/html": [
              "<div>\n",
              "<style scoped>\n",
              "    .dataframe tbody tr th:only-of-type {\n",
              "        vertical-align: middle;\n",
              "    }\n",
              "\n",
              "    .dataframe tbody tr th {\n",
              "        vertical-align: top;\n",
              "    }\n",
              "\n",
              "    .dataframe thead th {\n",
              "        text-align: right;\n",
              "    }\n",
              "</style>\n",
              "<table border=\"1\" class=\"dataframe\">\n",
              "  <thead>\n",
              "    <tr style=\"text-align: right;\">\n",
              "      <th></th>\n",
              "      <th>count</th>\n",
              "    </tr>\n",
              "    <tr>\n",
              "      <th>recode_P302</th>\n",
              "      <th></th>\n",
              "    </tr>\n",
              "  </thead>\n",
              "  <tbody>\n",
              "    <tr>\n",
              "      <th>Sabe leer y escribir</th>\n",
              "      <td>94612</td>\n",
              "    </tr>\n",
              "    <tr>\n",
              "      <th>No sabe</th>\n",
              "      <td>13637</td>\n",
              "    </tr>\n",
              "    <tr>\n",
              "      <th>Missing value</th>\n",
              "      <td>105</td>\n",
              "    </tr>\n",
              "  </tbody>\n",
              "</table>\n",
              "</div><br><label><b>dtype:</b> int64</label>"
            ]
          },
          "metadata": {},
          "execution_count": 23
        }
      ]
    },
    {
      "cell_type": "code",
      "source": [
        "enaho_educa.value_counts('recode_P302', normalize = True)*100"
      ],
      "metadata": {
        "colab": {
          "base_uri": "https://localhost:8080/",
          "height": 210
        },
        "id": "7rwbNdzrD-xM",
        "outputId": "e9938afd-29fd-4144-d7a9-abd08e42a8f0"
      },
      "execution_count": 24,
      "outputs": [
        {
          "output_type": "execute_result",
          "data": {
            "text/plain": [
              "recode_P302\n",
              "Sabe leer y escribir    87.317496\n",
              "No sabe                 12.585599\n",
              "Missing value            0.096905\n",
              "Name: proportion, dtype: float64"
            ],
            "text/html": [
              "<div>\n",
              "<style scoped>\n",
              "    .dataframe tbody tr th:only-of-type {\n",
              "        vertical-align: middle;\n",
              "    }\n",
              "\n",
              "    .dataframe tbody tr th {\n",
              "        vertical-align: top;\n",
              "    }\n",
              "\n",
              "    .dataframe thead th {\n",
              "        text-align: right;\n",
              "    }\n",
              "</style>\n",
              "<table border=\"1\" class=\"dataframe\">\n",
              "  <thead>\n",
              "    <tr style=\"text-align: right;\">\n",
              "      <th></th>\n",
              "      <th>proportion</th>\n",
              "    </tr>\n",
              "    <tr>\n",
              "      <th>recode_P302</th>\n",
              "      <th></th>\n",
              "    </tr>\n",
              "  </thead>\n",
              "  <tbody>\n",
              "    <tr>\n",
              "      <th>Sabe leer y escribir</th>\n",
              "      <td>87.317496</td>\n",
              "    </tr>\n",
              "    <tr>\n",
              "      <th>No sabe</th>\n",
              "      <td>12.585599</td>\n",
              "    </tr>\n",
              "    <tr>\n",
              "      <th>Missing value</th>\n",
              "      <td>0.096905</td>\n",
              "    </tr>\n",
              "  </tbody>\n",
              "</table>\n",
              "</div><br><label><b>dtype:</b> float64</label>"
            ]
          },
          "metadata": {},
          "execution_count": 24
        }
      ]
    },
    {
      "cell_type": "markdown",
      "source": [
        "Esta proporción (87.3%) tiene mucho más sentido 😃."
      ],
      "metadata": {
        "id": "RS1jbPqnEDbL"
      }
    },
    {
      "cell_type": "markdown",
      "source": [
        "### 3. El idioma o lengua materna que aprendió la persona en su niñez (P300A)"
      ],
      "metadata": {
        "id": "61eHt0vfE7MS"
      }
    },
    {
      "cell_type": "markdown",
      "source": [
        "Esta pregunta nos sirve para identificar el idioma o lengua materna que aprendió la persona encuestada en su niñez."
      ],
      "metadata": {
        "id": "su5ImiqIE7Wo"
      }
    },
    {
      "cell_type": "code",
      "source": [
        "# analizar la distribución en este caso es tan sencillo como contar los valores en cada categoría\n",
        "enaho_unido.value_counts('P300A',\n",
        "                         sort = False) # sort es ordenar. cuando especificamos que es falso, Python ordena en función a nuestras categorías\n",
        "\n",
        "# cuando decimos que es verdadero, ordena en función la distribución de valores"
      ],
      "metadata": {
        "colab": {
          "base_uri": "https://localhost:8080/",
          "height": 586
        },
        "id": "KDjqw8BEE7jU",
        "outputId": "84b6634b-3f97-410d-8a7f-260c1970750a"
      },
      "execution_count": 25,
      "outputs": [
        {
          "output_type": "execute_result",
          "data": {
            "text/plain": [
              "P300A\n",
              "1     15128\n",
              "2      2087\n",
              "3       377\n",
              "4     67659\n",
              "6       101\n",
              "7        32\n",
              "8       157\n",
              "9        42\n",
              "10      353\n",
              "11      382\n",
              "12      123\n",
              "13       67\n",
              "14       31\n",
              "15       46\n",
              "99       69\n",
              "Name: count, dtype: int64"
            ],
            "text/html": [
              "<div>\n",
              "<style scoped>\n",
              "    .dataframe tbody tr th:only-of-type {\n",
              "        vertical-align: middle;\n",
              "    }\n",
              "\n",
              "    .dataframe tbody tr th {\n",
              "        vertical-align: top;\n",
              "    }\n",
              "\n",
              "    .dataframe thead th {\n",
              "        text-align: right;\n",
              "    }\n",
              "</style>\n",
              "<table border=\"1\" class=\"dataframe\">\n",
              "  <thead>\n",
              "    <tr style=\"text-align: right;\">\n",
              "      <th></th>\n",
              "      <th>count</th>\n",
              "    </tr>\n",
              "    <tr>\n",
              "      <th>P300A</th>\n",
              "      <th></th>\n",
              "    </tr>\n",
              "  </thead>\n",
              "  <tbody>\n",
              "    <tr>\n",
              "      <th>1</th>\n",
              "      <td>15128</td>\n",
              "    </tr>\n",
              "    <tr>\n",
              "      <th>2</th>\n",
              "      <td>2087</td>\n",
              "    </tr>\n",
              "    <tr>\n",
              "      <th>3</th>\n",
              "      <td>377</td>\n",
              "    </tr>\n",
              "    <tr>\n",
              "      <th>4</th>\n",
              "      <td>67659</td>\n",
              "    </tr>\n",
              "    <tr>\n",
              "      <th>6</th>\n",
              "      <td>101</td>\n",
              "    </tr>\n",
              "    <tr>\n",
              "      <th>7</th>\n",
              "      <td>32</td>\n",
              "    </tr>\n",
              "    <tr>\n",
              "      <th>8</th>\n",
              "      <td>157</td>\n",
              "    </tr>\n",
              "    <tr>\n",
              "      <th>9</th>\n",
              "      <td>42</td>\n",
              "    </tr>\n",
              "    <tr>\n",
              "      <th>10</th>\n",
              "      <td>353</td>\n",
              "    </tr>\n",
              "    <tr>\n",
              "      <th>11</th>\n",
              "      <td>382</td>\n",
              "    </tr>\n",
              "    <tr>\n",
              "      <th>12</th>\n",
              "      <td>123</td>\n",
              "    </tr>\n",
              "    <tr>\n",
              "      <th>13</th>\n",
              "      <td>67</td>\n",
              "    </tr>\n",
              "    <tr>\n",
              "      <th>14</th>\n",
              "      <td>31</td>\n",
              "    </tr>\n",
              "    <tr>\n",
              "      <th>15</th>\n",
              "      <td>46</td>\n",
              "    </tr>\n",
              "    <tr>\n",
              "      <th>99</th>\n",
              "      <td>69</td>\n",
              "    </tr>\n",
              "  </tbody>\n",
              "</table>\n",
              "</div><br><label><b>dtype:</b> int64</label>"
            ]
          },
          "metadata": {},
          "execution_count": 25
        }
      ]
    },
    {
      "cell_type": "markdown",
      "source": [
        "Ya sabemos que el siguiente paso es hacer más amigable la interpretación:\n",
        "\n",
        "1. Recodificamos las variables con los valores del dicionario ENAHO\n",
        "\n",
        "2. Aplicamos distribución porcentual"
      ],
      "metadata": {
        "id": "53aaVSsCbh7U"
      }
    },
    {
      "cell_type": "code",
      "source": [
        "# antes de recodificar, comprobemos la estructura de los datos\n",
        "enaho_unido['P300A'].unique()\n",
        "# 99 representa missing values"
      ],
      "metadata": {
        "colab": {
          "base_uri": "https://localhost:8080/"
        },
        "id": "oaG-7zKCE7tH",
        "outputId": "aa324770-521e-4426-b95f-22cc2da94131"
      },
      "execution_count": 26,
      "outputs": [
        {
          "output_type": "execute_result",
          "data": {
            "text/plain": [
              "array([ 4,  1, 14,  8, 10,  2,  7, 11,  9,  6,  3, 12, 13, 15, 99])"
            ]
          },
          "metadata": {},
          "execution_count": 26
        }
      ]
    },
    {
      "cell_type": "code",
      "source": [
        "# Como en los casos previos, recodificamos\n",
        "enaho_unido['P300A'] = enaho_educa['P300A'].replace({\n",
        "    1: 'Quechua',\n",
        "    2: 'Aimara',\n",
        "    3: 'Otra lengua nativa',\n",
        "    4: 'Castellano',\n",
        "    5: 'Lengua extranjera', # por alguna razón esta no sale en el diccionario, pero inferimos que toca agregarla\n",
        "    6: 'Portugués',\n",
        "    7: 'Otra lengua extranjera',\n",
        "    8: 'No escucha/no habla',\n",
        "    9: 'Lengua de señas peruanas',\n",
        "    10: 'Ashaninka',\n",
        "    11: 'Awajún/Aguarun',\n",
        "    12: 'Shipibo – Konibo',\n",
        "    13: 'Shawi / Chayahuita',\n",
        "    14: 'Matsigenka / Machiguenga',\n",
        "    15: 'Achuar',\n",
        "    99: 'Missing value'\n",
        "})"
      ],
      "metadata": {
        "id": "Vkj-BD0qE79X"
      },
      "execution_count": 27,
      "outputs": []
    },
    {
      "cell_type": "code",
      "source": [
        "# Ahora vemos la distribución porcentual (normalizamos distribución del 0 al 1 y luego multiplicamos por 100)\n",
        "\n",
        "enaho_unido.value_counts('P300A', normalize=True)*100\n",
        "\n",
        "# Antes de agregar esos parámetros, podemos hacer un conteo"
      ],
      "metadata": {
        "colab": {
          "base_uri": "https://localhost:8080/",
          "height": 586
        },
        "id": "zX8-5mookfFj",
        "outputId": "c61baa54-75d3-4a5b-bb8a-1162f4391529"
      },
      "execution_count": 28,
      "outputs": [
        {
          "output_type": "execute_result",
          "data": {
            "text/plain": [
              "P300A\n",
              "Castellano                  80.485609\n",
              "Quechua                     15.184527\n",
              "Aimara                       1.881044\n",
              "Awajún/Aguarun               0.604704\n",
              "Otra lengua nativa           0.516999\n",
              "Ashaninka                    0.492764\n",
              "No escucha/no habla          0.184642\n",
              "Shipibo – Konibo             0.180026\n",
              "Portugués                    0.118864\n",
              "Achuar                       0.084243\n",
              "Missing value                0.084243\n",
              "Shawi / Chayahuita           0.062317\n",
              "Lengua de señas peruanas     0.049623\n",
              "Matsigenka / Machiguenga     0.036928\n",
              "Otra lengua extranjera       0.033466\n",
              "Name: proportion, dtype: float64"
            ],
            "text/html": [
              "<div>\n",
              "<style scoped>\n",
              "    .dataframe tbody tr th:only-of-type {\n",
              "        vertical-align: middle;\n",
              "    }\n",
              "\n",
              "    .dataframe tbody tr th {\n",
              "        vertical-align: top;\n",
              "    }\n",
              "\n",
              "    .dataframe thead th {\n",
              "        text-align: right;\n",
              "    }\n",
              "</style>\n",
              "<table border=\"1\" class=\"dataframe\">\n",
              "  <thead>\n",
              "    <tr style=\"text-align: right;\">\n",
              "      <th></th>\n",
              "      <th>proportion</th>\n",
              "    </tr>\n",
              "    <tr>\n",
              "      <th>P300A</th>\n",
              "      <th></th>\n",
              "    </tr>\n",
              "  </thead>\n",
              "  <tbody>\n",
              "    <tr>\n",
              "      <th>Castellano</th>\n",
              "      <td>80.485609</td>\n",
              "    </tr>\n",
              "    <tr>\n",
              "      <th>Quechua</th>\n",
              "      <td>15.184527</td>\n",
              "    </tr>\n",
              "    <tr>\n",
              "      <th>Aimara</th>\n",
              "      <td>1.881044</td>\n",
              "    </tr>\n",
              "    <tr>\n",
              "      <th>Awajún/Aguarun</th>\n",
              "      <td>0.604704</td>\n",
              "    </tr>\n",
              "    <tr>\n",
              "      <th>Otra lengua nativa</th>\n",
              "      <td>0.516999</td>\n",
              "    </tr>\n",
              "    <tr>\n",
              "      <th>Ashaninka</th>\n",
              "      <td>0.492764</td>\n",
              "    </tr>\n",
              "    <tr>\n",
              "      <th>No escucha/no habla</th>\n",
              "      <td>0.184642</td>\n",
              "    </tr>\n",
              "    <tr>\n",
              "      <th>Shipibo – Konibo</th>\n",
              "      <td>0.180026</td>\n",
              "    </tr>\n",
              "    <tr>\n",
              "      <th>Portugués</th>\n",
              "      <td>0.118864</td>\n",
              "    </tr>\n",
              "    <tr>\n",
              "      <th>Achuar</th>\n",
              "      <td>0.084243</td>\n",
              "    </tr>\n",
              "    <tr>\n",
              "      <th>Missing value</th>\n",
              "      <td>0.084243</td>\n",
              "    </tr>\n",
              "    <tr>\n",
              "      <th>Shawi / Chayahuita</th>\n",
              "      <td>0.062317</td>\n",
              "    </tr>\n",
              "    <tr>\n",
              "      <th>Lengua de señas peruanas</th>\n",
              "      <td>0.049623</td>\n",
              "    </tr>\n",
              "    <tr>\n",
              "      <th>Matsigenka / Machiguenga</th>\n",
              "      <td>0.036928</td>\n",
              "    </tr>\n",
              "    <tr>\n",
              "      <th>Otra lengua extranjera</th>\n",
              "      <td>0.033466</td>\n",
              "    </tr>\n",
              "  </tbody>\n",
              "</table>\n",
              "</div><br><label><b>dtype:</b> float64</label>"
            ]
          },
          "metadata": {},
          "execution_count": 28
        }
      ]
    },
    {
      "cell_type": "markdown",
      "source": [
        "### 4. Ingreso diario en soles (en la ocupación principal de) la persona (P523 y P524A1)"
      ],
      "metadata": {
        "id": "zkzP8J6HRzp2"
      }
    },
    {
      "cell_type": "markdown",
      "source": [
        "Crearemos esta nueva variable combinando dos preguntas de la ENAHO:\n",
        "1. Frecuencia de pago en la ocupación principal del encuestado: Diario, semanal, quincenal o mensual (*En su ocupación principal, ¿A ud. le pagan: Diario/Semanal/Quincenal/Mensual?*).\n",
        "\n",
        "2. Ingreso total en el periodo anterior: Incluye horas extras, bonificaciones, pagos por refrigerio, movilidad, comisiones, etc (*Cuánto fue su ingreso total en el(la) ... anterior, incluyendo las horas extras, bonificaciones, pago por concepto de refrigerio, movilidad, comisiones, etc.? - Monto S/. - Ingreso Total*)."
      ],
      "metadata": {
        "id": "Vc87TEGLmIkV"
      }
    },
    {
      "cell_type": "markdown",
      "source": [
        "La variable final será **cuantitativa**, pero para construirla necesitamos primero la variable categórica de frecuencia de pago. Esto se debe a que la variable **'P524A1' no tiene una unidad de medida uniforme**: almacena ingresos en diferentes plazos temporales dentro de la misma columna.\n",
        "\n",
        "Si no realizamos una transformación adecuada, las **comparaciones entre casos serían inválidas**. Por ejemplo, una persona podría haber reportado un ingreso de 500 soles diarios, mientras que otra podría haber registrado 500 soles mensuales, y no tendríamos manera de saberlo a menos que usemos la información de 'P523'."
      ],
      "metadata": {
        "id": "NG6bOFCHnmAw"
      }
    },
    {
      "cell_type": "markdown",
      "source": [
        "Para estandarizar los ingresos, **convertiremos todos los valores de P524A1 a una misma unidad temporal (diaria)**. Para ello, utilizaremos la variable'P523' para identificar la frecuencia de pago y aplicar el factor de conversión correspondiente (ej., dividir entre 30 si es mensual, entre 7 si es semanal, entre 15 si es quincenal, etc.). Cabe señalar que este cálculo es aproximado, ya que no contamos con información sobre la cantidad exacta de días trabajados por cada persona. Por ello, esta variable refleja más una **estimación de capacidad de gasto diario** que un ingreso exacto por día laborado."
      ],
      "metadata": {
        "id": "mGPJogipqy4y"
      }
    },
    {
      "cell_type": "markdown",
      "source": [
        "Primero, vamos a unos descriptivos simples."
      ],
      "metadata": {
        "id": "a8faZT_tsnTR"
      }
    },
    {
      "cell_type": "code",
      "source": [
        "enaho_trabajo.value_counts('P523',\n",
        "                         sort = False)\n",
        "\n",
        "# Esta variable nos habla de los plazos de pagos\n",
        "# Como podemos ver, tiene un gran númeor de NAs, la gran mayoría"
      ],
      "metadata": {
        "colab": {
          "base_uri": "https://localhost:8080/",
          "height": 272
        },
        "id": "yfH4WEPjskSE",
        "outputId": "84c94375-33f8-4a2a-954d-b36c1873a428"
      },
      "execution_count": 29,
      "outputs": [
        {
          "output_type": "execute_result",
          "data": {
            "text/plain": [
              "P523\n",
              "     61410\n",
              "1      320\n",
              "2     7033\n",
              "3     1554\n",
              "4    16337\n",
              "Name: count, dtype: int64"
            ],
            "text/html": [
              "<div>\n",
              "<style scoped>\n",
              "    .dataframe tbody tr th:only-of-type {\n",
              "        vertical-align: middle;\n",
              "    }\n",
              "\n",
              "    .dataframe tbody tr th {\n",
              "        vertical-align: top;\n",
              "    }\n",
              "\n",
              "    .dataframe thead th {\n",
              "        text-align: right;\n",
              "    }\n",
              "</style>\n",
              "<table border=\"1\" class=\"dataframe\">\n",
              "  <thead>\n",
              "    <tr style=\"text-align: right;\">\n",
              "      <th></th>\n",
              "      <th>count</th>\n",
              "    </tr>\n",
              "    <tr>\n",
              "      <th>P523</th>\n",
              "      <th></th>\n",
              "    </tr>\n",
              "  </thead>\n",
              "  <tbody>\n",
              "    <tr>\n",
              "      <th></th>\n",
              "      <td>61410</td>\n",
              "    </tr>\n",
              "    <tr>\n",
              "      <th>1</th>\n",
              "      <td>320</td>\n",
              "    </tr>\n",
              "    <tr>\n",
              "      <th>2</th>\n",
              "      <td>7033</td>\n",
              "    </tr>\n",
              "    <tr>\n",
              "      <th>3</th>\n",
              "      <td>1554</td>\n",
              "    </tr>\n",
              "    <tr>\n",
              "      <th>4</th>\n",
              "      <td>16337</td>\n",
              "    </tr>\n",
              "  </tbody>\n",
              "</table>\n",
              "</div><br><label><b>dtype:</b> int64</label>"
            ]
          },
          "metadata": {},
          "execution_count": 29
        }
      ]
    },
    {
      "cell_type": "code",
      "source": [
        "import numpy as np\n",
        "\n",
        "enaho_trabajo[\"P524A1\"] = enaho_trabajo[\"P524A1\"].replace(999999, np.nan) # esto es para que los missing values no sea lean como números\n",
        "enaho_trabajo[\"P524A1\"] = pd.to_numeric(enaho_trabajo[\"P524A1\"], errors=\"coerce\") # nos aseguramos que esté como número\n",
        "enaho_trabajo[\"P524A1\"].describe(percentiles=[0.25, 0.5, 0.75])\n"
      ],
      "metadata": {
        "colab": {
          "base_uri": "https://localhost:8080/",
          "height": 335
        },
        "id": "1lm0_ns9uQV-",
        "outputId": "f536eaa8-529c-4e0c-a333-ae229a86e76f"
      },
      "execution_count": 33,
      "outputs": [
        {
          "output_type": "execute_result",
          "data": {
            "text/plain": [
              "count    24880.000000\n",
              "mean      1329.497146\n",
              "std       1504.975598\n",
              "min          5.000000\n",
              "25%        300.000000\n",
              "50%       1000.000000\n",
              "75%       1800.000000\n",
              "max      28000.000000\n",
              "Name: P524A1, dtype: float64"
            ],
            "text/html": [
              "<div>\n",
              "<style scoped>\n",
              "    .dataframe tbody tr th:only-of-type {\n",
              "        vertical-align: middle;\n",
              "    }\n",
              "\n",
              "    .dataframe tbody tr th {\n",
              "        vertical-align: top;\n",
              "    }\n",
              "\n",
              "    .dataframe thead th {\n",
              "        text-align: right;\n",
              "    }\n",
              "</style>\n",
              "<table border=\"1\" class=\"dataframe\">\n",
              "  <thead>\n",
              "    <tr style=\"text-align: right;\">\n",
              "      <th></th>\n",
              "      <th>P524A1</th>\n",
              "    </tr>\n",
              "  </thead>\n",
              "  <tbody>\n",
              "    <tr>\n",
              "      <th>count</th>\n",
              "      <td>24880.000000</td>\n",
              "    </tr>\n",
              "    <tr>\n",
              "      <th>mean</th>\n",
              "      <td>1329.497146</td>\n",
              "    </tr>\n",
              "    <tr>\n",
              "      <th>std</th>\n",
              "      <td>1504.975598</td>\n",
              "    </tr>\n",
              "    <tr>\n",
              "      <th>min</th>\n",
              "      <td>5.000000</td>\n",
              "    </tr>\n",
              "    <tr>\n",
              "      <th>25%</th>\n",
              "      <td>300.000000</td>\n",
              "    </tr>\n",
              "    <tr>\n",
              "      <th>50%</th>\n",
              "      <td>1000.000000</td>\n",
              "    </tr>\n",
              "    <tr>\n",
              "      <th>75%</th>\n",
              "      <td>1800.000000</td>\n",
              "    </tr>\n",
              "    <tr>\n",
              "      <th>max</th>\n",
              "      <td>28000.000000</td>\n",
              "    </tr>\n",
              "  </tbody>\n",
              "</table>\n",
              "</div><br><label><b>dtype:</b> float64</label>"
            ]
          },
          "metadata": {},
          "execution_count": 33
        }
      ]
    },
    {
      "cell_type": "markdown",
      "source": [
        "Tenemos 24 800 casos, que, como recordamos, están en diferentes unidades (soles al día/semana/quincena y mes). Por ende, esta primera tabla no es informativa ni confiable (comparable)."
      ],
      "metadata": {
        "id": "GaAzmHXXmFR9"
      }
    },
    {
      "cell_type": "markdown",
      "source": [
        "Ahora sí, vamos a la acción. 😎🤯"
      ],
      "metadata": {
        "id": "Uv016I-rsqB2"
      }
    },
    {
      "cell_type": "code",
      "source": [
        "# Creamos una copia de la variable de ingresos para no modificar la original\n",
        "enaho_unido[\"ingreso_diario\"] = enaho_trabajo[\"P524A1\"]\n",
        "\n",
        "# Aplicamos factores de conversión según la frecuencia de pago (P523) para que todos estén en diario\n",
        "\n",
        "enaho_unido['P523'] = enaho_trabajo['P523'].replace({\n",
        "    1: 1,    # Pago diario, por ende, lo dejamos como está\n",
        "    2: 7,    # Pago semanal\n",
        "    3: 15,   # Pago quincenal\n",
        "    4: 30    # Pago mensual\n",
        "})\n",
        "\n",
        "# Nos aseguramos que este resultado sea numérico\n",
        "enaho_unido[\"P523\"] = pd.to_numeric(enaho_unido[\"P523\"], errors=\"coerce\")\n",
        "\n",
        "# Y reemplazamos valores usando la conversión (división para obtener ingreso diario)\n",
        "enaho_unido[\"ingreso_diario\"] = enaho_unido[\"ingreso_diario\"] / enaho_unido[\"P523\"]"
      ],
      "metadata": {
        "id": "p3t5w-FHk0US"
      },
      "execution_count": 39,
      "outputs": []
    },
    {
      "cell_type": "markdown",
      "source": [
        "Veamos qué tenemos ahora:"
      ],
      "metadata": {
        "id": "kyUSXWr6RyP3"
      }
    },
    {
      "cell_type": "code",
      "source": [
        "enaho_unido[\"ingreso_diario\"].describe(percentiles=[0.25, 0.5, 0.75])"
      ],
      "metadata": {
        "colab": {
          "base_uri": "https://localhost:8080/",
          "height": 335
        },
        "id": "H8EYwbYCvYpn",
        "outputId": "2580337e-b181-44f3-89f4-2ebecf4abf41"
      },
      "execution_count": 40,
      "outputs": [
        {
          "output_type": "execute_result",
          "data": {
            "text/plain": [
              "count    24880.000000\n",
              "mean       353.774665\n",
              "std        365.514937\n",
              "min          2.500000\n",
              "25%        125.000000\n",
              "50%        256.250000\n",
              "75%        450.000000\n",
              "max       7000.000000\n",
              "Name: ingreso_diario, dtype: float64"
            ],
            "text/html": [
              "<div>\n",
              "<style scoped>\n",
              "    .dataframe tbody tr th:only-of-type {\n",
              "        vertical-align: middle;\n",
              "    }\n",
              "\n",
              "    .dataframe tbody tr th {\n",
              "        vertical-align: top;\n",
              "    }\n",
              "\n",
              "    .dataframe thead th {\n",
              "        text-align: right;\n",
              "    }\n",
              "</style>\n",
              "<table border=\"1\" class=\"dataframe\">\n",
              "  <thead>\n",
              "    <tr style=\"text-align: right;\">\n",
              "      <th></th>\n",
              "      <th>ingreso_diario</th>\n",
              "    </tr>\n",
              "  </thead>\n",
              "  <tbody>\n",
              "    <tr>\n",
              "      <th>count</th>\n",
              "      <td>24880.000000</td>\n",
              "    </tr>\n",
              "    <tr>\n",
              "      <th>mean</th>\n",
              "      <td>353.774665</td>\n",
              "    </tr>\n",
              "    <tr>\n",
              "      <th>std</th>\n",
              "      <td>365.514937</td>\n",
              "    </tr>\n",
              "    <tr>\n",
              "      <th>min</th>\n",
              "      <td>2.500000</td>\n",
              "    </tr>\n",
              "    <tr>\n",
              "      <th>25%</th>\n",
              "      <td>125.000000</td>\n",
              "    </tr>\n",
              "    <tr>\n",
              "      <th>50%</th>\n",
              "      <td>256.250000</td>\n",
              "    </tr>\n",
              "    <tr>\n",
              "      <th>75%</th>\n",
              "      <td>450.000000</td>\n",
              "    </tr>\n",
              "    <tr>\n",
              "      <th>max</th>\n",
              "      <td>7000.000000</td>\n",
              "    </tr>\n",
              "  </tbody>\n",
              "</table>\n",
              "</div><br><label><b>dtype:</b> float64</label>"
            ]
          },
          "metadata": {},
          "execution_count": 40
        }
      ]
    },
    {
      "cell_type": "markdown",
      "source": [
        "Estas cifras de ingreso diario son bastante más fáciles de entender! Además, podemos comprobar que el conteo de casos válidos (24 880) es similar al conteo de casos válidos en P523 (32 244). Si fuera mayor, tendríamos que preocuparnos.\n",
        "\n",
        "Y, aunque no podemos interpretarlos como datos oficiales -porque el cálculo oficial de la ENAHO es más complejo aún (por ejemplo, nosotros **solo** consideramos ingresos en la ocupación principal)- podemos confiar en la lógica de nuestro procedimiento. Esto sí, el sueldo diario promedio en el Perú está muy lejos de nuestro promedio obtenido, e incluso de la mediana (menos influencida por valores extremos).\n",
        "\n",
        "Sueldo promedio en el Perú 2023: https://elcomercio.pe/respuestas/tramites/cuanto-es-el-sueldo-promedio-en-el-peru-y-en-que-ciudad-se-gana-mas-segun-el-inei-salario-minimo-vital-tdpe-noticia/"
      ],
      "metadata": {
        "id": "M8f0x81TRyXK"
      }
    },
    {
      "cell_type": "markdown",
      "source": [
        "# **Sección 3: Análisis de distribución con cruce de variables**"
      ],
      "metadata": {
        "id": "4FTox8hLsgDx"
      }
    },
    {
      "cell_type": "markdown",
      "source": [
        "En esta sección, filtraremos las variables relevantes para nuestro análisis y construiremos un nuevo dataframe con ellas, el cual llamaremos \"Capital Humano\" (porque contiene variables de educación y trabajo). A partir de esta muestra, exploraremos la distribución de las variables clave y su relación con otras dimensiones de interés. Esto nos permitirá obtener una visión más clara (con propósitos pedagógicos) sobre el capital humano en Perú en 2023."
      ],
      "metadata": {
        "id": "UJ0G0G8gDM8Y"
      }
    },
    {
      "cell_type": "code",
      "source": [
        "# paso 1: creamos un df que contenga solo la gente que trabaja o ha trabajado\n",
        "enaho_unido.value_counts('P501') # esta información (el nombre de la variable) la encontramos en el Diccionario"
      ],
      "metadata": {
        "id": "bvXVSFuaRymK",
        "colab": {
          "base_uri": "https://localhost:8080/",
          "height": 210
        },
        "outputId": "ac16d3de-6b61-4b65-cc68-827725383484"
      },
      "execution_count": 41,
      "outputs": [
        {
          "output_type": "execute_result",
          "data": {
            "text/plain": [
              "P501\n",
              "1    57119\n",
              "2    29407\n",
              "9      128\n",
              "Name: count, dtype: int64"
            ],
            "text/html": [
              "<div>\n",
              "<style scoped>\n",
              "    .dataframe tbody tr th:only-of-type {\n",
              "        vertical-align: middle;\n",
              "    }\n",
              "\n",
              "    .dataframe tbody tr th {\n",
              "        vertical-align: top;\n",
              "    }\n",
              "\n",
              "    .dataframe thead th {\n",
              "        text-align: right;\n",
              "    }\n",
              "</style>\n",
              "<table border=\"1\" class=\"dataframe\">\n",
              "  <thead>\n",
              "    <tr style=\"text-align: right;\">\n",
              "      <th></th>\n",
              "      <th>count</th>\n",
              "    </tr>\n",
              "    <tr>\n",
              "      <th>P501</th>\n",
              "      <th></th>\n",
              "    </tr>\n",
              "  </thead>\n",
              "  <tbody>\n",
              "    <tr>\n",
              "      <th>1</th>\n",
              "      <td>57119</td>\n",
              "    </tr>\n",
              "    <tr>\n",
              "      <th>2</th>\n",
              "      <td>29407</td>\n",
              "    </tr>\n",
              "    <tr>\n",
              "      <th>9</th>\n",
              "      <td>128</td>\n",
              "    </tr>\n",
              "  </tbody>\n",
              "</table>\n",
              "</div><br><label><b>dtype:</b> int64</label>"
            ]
          },
          "metadata": {},
          "execution_count": 41
        }
      ]
    },
    {
      "cell_type": "code",
      "source": [
        "df_capital_humano = enaho_unido[enaho_unido['P501'] == 1] # comprobamos que nuestro nuevo df tenga el mismo número de casos que el conteo del \"1\"\n",
        "\n",
        "# Y, por motivos prácticos, seleccionamos solo las columnas que nos interesan\n",
        "df_capital_humano = df_capital_humano[['P501', 'ingreso_diario', 'P301A', 'P300A']]\n"
      ],
      "metadata": {
        "id": "3K0cTmjERyr-"
      },
      "execution_count": 42,
      "outputs": []
    },
    {
      "cell_type": "code",
      "source": [
        "df_capital_humano.info()"
      ],
      "metadata": {
        "id": "xWZOl33dRyx2",
        "colab": {
          "base_uri": "https://localhost:8080/"
        },
        "outputId": "ee085f44-ff27-4241-ab78-979647ce3685"
      },
      "execution_count": 43,
      "outputs": [
        {
          "output_type": "stream",
          "name": "stdout",
          "text": [
            "<class 'pandas.core.frame.DataFrame'>\n",
            "Index: 57119 entries, 0 to 86653\n",
            "Data columns (total 4 columns):\n",
            " #   Column          Non-Null Count  Dtype  \n",
            "---  ------          --------------  -----  \n",
            " 0   P501            57119 non-null  int64  \n",
            " 1   ingreso_diario  23909 non-null  float64\n",
            " 2   P301A           57119 non-null  object \n",
            " 3   P300A           57119 non-null  object \n",
            "dtypes: float64(1), int64(1), object(2)\n",
            "memory usage: 2.2+ MB\n"
          ]
        }
      ]
    },
    {
      "cell_type": "code",
      "source": [
        "df_capital_humano.value_counts('P301A', normalize=True)*100"
      ],
      "metadata": {
        "colab": {
          "base_uri": "https://localhost:8080/",
          "height": 523
        },
        "id": "omaCIp-Ab7lA",
        "outputId": "65e32369-7e0e-4921-8165-7b6d58016804"
      },
      "execution_count": 44,
      "outputs": [
        {
          "output_type": "execute_result",
          "data": {
            "text/plain": [
              "P301A\n",
              "Secundaria completa                     20.754915\n",
              "Primaria incompleta                     19.848037\n",
              "Secundaria incompleta                   15.336403\n",
              "Primaria completa                       10.936816\n",
              "Superior no universitaria completa       6.426933\n",
              "Superior universitaria completa          6.222098\n",
              "Sin nivel                                5.847441\n",
              "Superior universitaria incompleta        4.951067\n",
              "Educación inicial                        4.572909\n",
              "Superior no universitaria incompleta     3.646773\n",
              "Maestría/Doctorado                       1.253523\n",
              "Básica especial                          0.124302\n",
              "Missing value                            0.078783\n",
              "Name: proportion, dtype: float64"
            ],
            "text/html": [
              "<div>\n",
              "<style scoped>\n",
              "    .dataframe tbody tr th:only-of-type {\n",
              "        vertical-align: middle;\n",
              "    }\n",
              "\n",
              "    .dataframe tbody tr th {\n",
              "        vertical-align: top;\n",
              "    }\n",
              "\n",
              "    .dataframe thead th {\n",
              "        text-align: right;\n",
              "    }\n",
              "</style>\n",
              "<table border=\"1\" class=\"dataframe\">\n",
              "  <thead>\n",
              "    <tr style=\"text-align: right;\">\n",
              "      <th></th>\n",
              "      <th>proportion</th>\n",
              "    </tr>\n",
              "    <tr>\n",
              "      <th>P301A</th>\n",
              "      <th></th>\n",
              "    </tr>\n",
              "  </thead>\n",
              "  <tbody>\n",
              "    <tr>\n",
              "      <th>Secundaria completa</th>\n",
              "      <td>20.754915</td>\n",
              "    </tr>\n",
              "    <tr>\n",
              "      <th>Primaria incompleta</th>\n",
              "      <td>19.848037</td>\n",
              "    </tr>\n",
              "    <tr>\n",
              "      <th>Secundaria incompleta</th>\n",
              "      <td>15.336403</td>\n",
              "    </tr>\n",
              "    <tr>\n",
              "      <th>Primaria completa</th>\n",
              "      <td>10.936816</td>\n",
              "    </tr>\n",
              "    <tr>\n",
              "      <th>Superior no universitaria completa</th>\n",
              "      <td>6.426933</td>\n",
              "    </tr>\n",
              "    <tr>\n",
              "      <th>Superior universitaria completa</th>\n",
              "      <td>6.222098</td>\n",
              "    </tr>\n",
              "    <tr>\n",
              "      <th>Sin nivel</th>\n",
              "      <td>5.847441</td>\n",
              "    </tr>\n",
              "    <tr>\n",
              "      <th>Superior universitaria incompleta</th>\n",
              "      <td>4.951067</td>\n",
              "    </tr>\n",
              "    <tr>\n",
              "      <th>Educación inicial</th>\n",
              "      <td>4.572909</td>\n",
              "    </tr>\n",
              "    <tr>\n",
              "      <th>Superior no universitaria incompleta</th>\n",
              "      <td>3.646773</td>\n",
              "    </tr>\n",
              "    <tr>\n",
              "      <th>Maestría/Doctorado</th>\n",
              "      <td>1.253523</td>\n",
              "    </tr>\n",
              "    <tr>\n",
              "      <th>Básica especial</th>\n",
              "      <td>0.124302</td>\n",
              "    </tr>\n",
              "    <tr>\n",
              "      <th>Missing value</th>\n",
              "      <td>0.078783</td>\n",
              "    </tr>\n",
              "  </tbody>\n",
              "</table>\n",
              "</div><br><label><b>dtype:</b> float64</label>"
            ]
          },
          "metadata": {},
          "execution_count": 44
        }
      ]
    },
    {
      "cell_type": "code",
      "source": [
        "df_capital_humano.value_counts('P300A', normalize=True)*100"
      ],
      "metadata": {
        "colab": {
          "base_uri": "https://localhost:8080/",
          "height": 586
        },
        "id": "AJwOG-6CgC_i",
        "outputId": "caf2ec15-9254-44c8-e954-6b56974ce87a"
      },
      "execution_count": 45,
      "outputs": [
        {
          "output_type": "execute_result",
          "data": {
            "text/plain": [
              "P300A\n",
              "Castellano                  80.526620\n",
              "Quechua                     15.075544\n",
              "Aimara                       1.967822\n",
              "Awajún/Aguarun               0.553231\n",
              "Otra lengua nativa           0.544477\n",
              "Ashaninka                    0.490205\n",
              "Shipibo – Konibo             0.192580\n",
              "No escucha/no habla          0.183827\n",
              "Portugués                    0.110296\n",
              "Achuar                       0.080534\n",
              "Missing value                0.078783\n",
              "Shawi / Chayahuita           0.061276\n",
              "Lengua de señas peruanas     0.054273\n",
              "Matsigenka / Machiguenga     0.042018\n",
              "Otra lengua extranjera       0.038516\n",
              "Name: proportion, dtype: float64"
            ],
            "text/html": [
              "<div>\n",
              "<style scoped>\n",
              "    .dataframe tbody tr th:only-of-type {\n",
              "        vertical-align: middle;\n",
              "    }\n",
              "\n",
              "    .dataframe tbody tr th {\n",
              "        vertical-align: top;\n",
              "    }\n",
              "\n",
              "    .dataframe thead th {\n",
              "        text-align: right;\n",
              "    }\n",
              "</style>\n",
              "<table border=\"1\" class=\"dataframe\">\n",
              "  <thead>\n",
              "    <tr style=\"text-align: right;\">\n",
              "      <th></th>\n",
              "      <th>proportion</th>\n",
              "    </tr>\n",
              "    <tr>\n",
              "      <th>P300A</th>\n",
              "      <th></th>\n",
              "    </tr>\n",
              "  </thead>\n",
              "  <tbody>\n",
              "    <tr>\n",
              "      <th>Castellano</th>\n",
              "      <td>80.526620</td>\n",
              "    </tr>\n",
              "    <tr>\n",
              "      <th>Quechua</th>\n",
              "      <td>15.075544</td>\n",
              "    </tr>\n",
              "    <tr>\n",
              "      <th>Aimara</th>\n",
              "      <td>1.967822</td>\n",
              "    </tr>\n",
              "    <tr>\n",
              "      <th>Awajún/Aguarun</th>\n",
              "      <td>0.553231</td>\n",
              "    </tr>\n",
              "    <tr>\n",
              "      <th>Otra lengua nativa</th>\n",
              "      <td>0.544477</td>\n",
              "    </tr>\n",
              "    <tr>\n",
              "      <th>Ashaninka</th>\n",
              "      <td>0.490205</td>\n",
              "    </tr>\n",
              "    <tr>\n",
              "      <th>Shipibo – Konibo</th>\n",
              "      <td>0.192580</td>\n",
              "    </tr>\n",
              "    <tr>\n",
              "      <th>No escucha/no habla</th>\n",
              "      <td>0.183827</td>\n",
              "    </tr>\n",
              "    <tr>\n",
              "      <th>Portugués</th>\n",
              "      <td>0.110296</td>\n",
              "    </tr>\n",
              "    <tr>\n",
              "      <th>Achuar</th>\n",
              "      <td>0.080534</td>\n",
              "    </tr>\n",
              "    <tr>\n",
              "      <th>Missing value</th>\n",
              "      <td>0.078783</td>\n",
              "    </tr>\n",
              "    <tr>\n",
              "      <th>Shawi / Chayahuita</th>\n",
              "      <td>0.061276</td>\n",
              "    </tr>\n",
              "    <tr>\n",
              "      <th>Lengua de señas peruanas</th>\n",
              "      <td>0.054273</td>\n",
              "    </tr>\n",
              "    <tr>\n",
              "      <th>Matsigenka / Machiguenga</th>\n",
              "      <td>0.042018</td>\n",
              "    </tr>\n",
              "    <tr>\n",
              "      <th>Otra lengua extranjera</th>\n",
              "      <td>0.038516</td>\n",
              "    </tr>\n",
              "  </tbody>\n",
              "</table>\n",
              "</div><br><label><b>dtype:</b> float64</label>"
            ]
          },
          "metadata": {},
          "execution_count": 45
        }
      ]
    },
    {
      "cell_type": "markdown",
      "source": [
        "La información que tenemos está a un alto nivel de detalle. Sin embargo, no será muy práctico o visualmente amigable tener tantas categorías cuando hagamos el cruce de información. Además, es posible notar que varias categorías tienen una porción muy bajar de la muestra (como menos del 1%, en el caso de los idiomas maternos).\n",
        "\n",
        "Entonces, vamos a simplificar las categorías en ambas variables para reagrupar la muestra en categorías más amplias aunque suficientemente informativas."
      ],
      "metadata": {
        "id": "TsjEBaHDhBtL"
      }
    },
    {
      "cell_type": "code",
      "source": [
        "# Simplificar categorías\n",
        "\n",
        "# Lengua materna\n",
        "\n",
        "df_capital_humano['P300A'] = df_capital_humano['P300A'].replace({\n",
        "    'Quechua': 'Quechua',\n",
        "    'Aimara': 'Aimara',\n",
        "    'Otra lengua nativa': 'Otra lengua nativa',  # Agrupamos varias lenguas indígenas\n",
        "    'Ashaninka': 'Otra lengua nativa',\n",
        "    'Awajún/Aguarun': 'Otra lengua nativa',\n",
        "    'Shipibo – Konibo': 'Otra lengua nativa',\n",
        "    'Shawi / Chayahuita': 'Otra lengua nativa',\n",
        "    'Matsigenka / Machiguenga': 'Otra lengua nativa',\n",
        "    'Achuar': 'Otra lengua nativa',\n",
        "    'Castellano': 'Castellano',\n",
        "    'Otra lengua extranjera': 'Lengua extranjera',\n",
        "    'Lengua extranjera': 'Lengua extranjera',  # Agrupamos lenguas extranjeras\n",
        "    'Portugués': 'Lengua extranjera',\n",
        "    'Lengua de señas peruanas': 'Missing value', # esto es por propósitos pedagógicos/prácticos\n",
        "    'No escucha/no habla': 'Missing value', # esto también\n",
        "    'Missing value': 'Missing value'\n",
        "})\n",
        "\n",
        "# Último nivel educativo concluido (ustedes pueden pensar y justificar mejores categorías, solo es un ejemplo)\n",
        "\n",
        "df_capital_humano['nivel_educativo'] = df_capital_humano['P301A'].replace({\n",
        "    'Sin nivel': 'Sin nivel',\n",
        "    'Educación inicial': 'Sin nivel',\n",
        "    'Primaria incompleta': 'Sin nivel',\n",
        "    'Primaria completa': 'Primaria',\n",
        "    'Secundaria incompleta': 'Primaria',\n",
        "    'Secundaria completa': 'Secundaria',\n",
        "    'Superior no universitaria incompleta': 'Secundaria',\n",
        "    'Superior no universitaria completa': 'Superior',\n",
        "    'Superior universitaria incompleta': 'Secundaria',\n",
        "    'Superior universitaria completa': 'Superior',\n",
        "    'Maestría/Doctorado': 'Maestría/Doctorado',\n",
        "    'Básica especial': 'Básica especial'\n",
        "})\n"
      ],
      "metadata": {
        "id": "4SoZoyaVgYcr"
      },
      "execution_count": 49,
      "outputs": []
    },
    {
      "cell_type": "code",
      "source": [
        "# y quitamos los casos con valores perdidos o no útiles\n",
        "df_capital_humano = df_capital_humano[df_capital_humano['P300A'] != 'Missing value']\n",
        "df_capital_humano = df_capital_humano[df_capital_humano['nivel_educativo'] != 'Missing value']"
      ],
      "metadata": {
        "id": "P9qXi1sPwa_2"
      },
      "execution_count": 47,
      "outputs": []
    },
    {
      "cell_type": "code",
      "source": [
        "# probamos\n",
        "\n",
        "df_capital_humano.value_counts('P300A', normalize=True)*100"
      ],
      "metadata": {
        "colab": {
          "base_uri": "https://localhost:8080/",
          "height": 272
        },
        "id": "76DWNw22RZgI",
        "outputId": "784b7d6e-2012-4ef4-b9fa-83a1d1012eb6"
      },
      "execution_count": 50,
      "outputs": [
        {
          "output_type": "execute_result",
          "data": {
            "text/plain": [
              "P300A\n",
              "Castellano            80.782606\n",
              "Quechua               15.123468\n",
              "Aimara                 1.974077\n",
              "Otra lengua nativa     1.970564\n",
              "Lengua extranjera      0.149285\n",
              "Name: proportion, dtype: float64"
            ],
            "text/html": [
              "<div>\n",
              "<style scoped>\n",
              "    .dataframe tbody tr th:only-of-type {\n",
              "        vertical-align: middle;\n",
              "    }\n",
              "\n",
              "    .dataframe tbody tr th {\n",
              "        vertical-align: top;\n",
              "    }\n",
              "\n",
              "    .dataframe thead th {\n",
              "        text-align: right;\n",
              "    }\n",
              "</style>\n",
              "<table border=\"1\" class=\"dataframe\">\n",
              "  <thead>\n",
              "    <tr style=\"text-align: right;\">\n",
              "      <th></th>\n",
              "      <th>proportion</th>\n",
              "    </tr>\n",
              "    <tr>\n",
              "      <th>P300A</th>\n",
              "      <th></th>\n",
              "    </tr>\n",
              "  </thead>\n",
              "  <tbody>\n",
              "    <tr>\n",
              "      <th>Castellano</th>\n",
              "      <td>80.782606</td>\n",
              "    </tr>\n",
              "    <tr>\n",
              "      <th>Quechua</th>\n",
              "      <td>15.123468</td>\n",
              "    </tr>\n",
              "    <tr>\n",
              "      <th>Aimara</th>\n",
              "      <td>1.974077</td>\n",
              "    </tr>\n",
              "    <tr>\n",
              "      <th>Otra lengua nativa</th>\n",
              "      <td>1.970564</td>\n",
              "    </tr>\n",
              "    <tr>\n",
              "      <th>Lengua extranjera</th>\n",
              "      <td>0.149285</td>\n",
              "    </tr>\n",
              "  </tbody>\n",
              "</table>\n",
              "</div><br><label><b>dtype:</b> float64</label>"
            ]
          },
          "metadata": {},
          "execution_count": 50
        }
      ]
    },
    {
      "cell_type": "markdown",
      "source": [
        "Listo! Ahora tenemos una versión más general de las variables, que agrupa a nuestra muestra en grupos más grandes, y va a ser más sencilla de interpretar."
      ],
      "metadata": {
        "id": "_UI8RzqTpzuV"
      }
    },
    {
      "cell_type": "code",
      "source": [
        "# Paso 2: vemos la distribución con valores absolutos, entre P sin_contrato\n",
        "pd.crosstab(df_capital_humano['nivel_educativo'], df_capital_humano['P300A'], normalize= \"all\")*100 # cuando este parámetro toma el valor \"all\" hacemos que nuestra distribución se normalice respecto al total de nuestra muestra\n",
        "            # es lo mismo si probamos con TRUE"
      ],
      "metadata": {
        "colab": {
          "base_uri": "https://localhost:8080/",
          "height": 269
        },
        "id": "xpcOm21nb7nw",
        "outputId": "25442395-59be-412e-f058-5b2dbd81856b"
      },
      "execution_count": 51,
      "outputs": [
        {
          "output_type": "execute_result",
          "data": {
            "text/plain": [
              "P300A                 Aimara  Castellano  Lengua extranjera  \\\n",
              "nivel_educativo                                               \n",
              "Básica especial     0.001756    0.098353           0.000000   \n",
              "Maestría/Doctorado  0.014050    1.164424           0.001756   \n",
              "Primaria            0.612947   20.638238           0.031613   \n",
              "Secundaria          0.583090   25.209877           0.031613   \n",
              "Sin nivel           0.611191   22.118796           0.045664   \n",
              "Superior            0.151041   11.552917           0.038639   \n",
              "\n",
              "P300A               Otra lengua nativa   Quechua  \n",
              "nivel_educativo                                   \n",
              "Básica especial               0.000000  0.003513  \n",
              "Maestría/Doctorado            0.007025  0.066739  \n",
              "Primaria                      0.684956  4.366153  \n",
              "Secundaria                    0.265201  3.343988  \n",
              "Sin nivel                     0.960694  6.459658  \n",
              "Superior                      0.052689  0.883417  "
            ],
            "text/html": [
              "\n",
              "  <div id=\"df-4750ae72-5bf6-4297-a5f4-468fe48c8c65\" class=\"colab-df-container\">\n",
              "    <div>\n",
              "<style scoped>\n",
              "    .dataframe tbody tr th:only-of-type {\n",
              "        vertical-align: middle;\n",
              "    }\n",
              "\n",
              "    .dataframe tbody tr th {\n",
              "        vertical-align: top;\n",
              "    }\n",
              "\n",
              "    .dataframe thead th {\n",
              "        text-align: right;\n",
              "    }\n",
              "</style>\n",
              "<table border=\"1\" class=\"dataframe\">\n",
              "  <thead>\n",
              "    <tr style=\"text-align: right;\">\n",
              "      <th>P300A</th>\n",
              "      <th>Aimara</th>\n",
              "      <th>Castellano</th>\n",
              "      <th>Lengua extranjera</th>\n",
              "      <th>Otra lengua nativa</th>\n",
              "      <th>Quechua</th>\n",
              "    </tr>\n",
              "    <tr>\n",
              "      <th>nivel_educativo</th>\n",
              "      <th></th>\n",
              "      <th></th>\n",
              "      <th></th>\n",
              "      <th></th>\n",
              "      <th></th>\n",
              "    </tr>\n",
              "  </thead>\n",
              "  <tbody>\n",
              "    <tr>\n",
              "      <th>Básica especial</th>\n",
              "      <td>0.001756</td>\n",
              "      <td>0.098353</td>\n",
              "      <td>0.000000</td>\n",
              "      <td>0.000000</td>\n",
              "      <td>0.003513</td>\n",
              "    </tr>\n",
              "    <tr>\n",
              "      <th>Maestría/Doctorado</th>\n",
              "      <td>0.014050</td>\n",
              "      <td>1.164424</td>\n",
              "      <td>0.001756</td>\n",
              "      <td>0.007025</td>\n",
              "      <td>0.066739</td>\n",
              "    </tr>\n",
              "    <tr>\n",
              "      <th>Primaria</th>\n",
              "      <td>0.612947</td>\n",
              "      <td>20.638238</td>\n",
              "      <td>0.031613</td>\n",
              "      <td>0.684956</td>\n",
              "      <td>4.366153</td>\n",
              "    </tr>\n",
              "    <tr>\n",
              "      <th>Secundaria</th>\n",
              "      <td>0.583090</td>\n",
              "      <td>25.209877</td>\n",
              "      <td>0.031613</td>\n",
              "      <td>0.265201</td>\n",
              "      <td>3.343988</td>\n",
              "    </tr>\n",
              "    <tr>\n",
              "      <th>Sin nivel</th>\n",
              "      <td>0.611191</td>\n",
              "      <td>22.118796</td>\n",
              "      <td>0.045664</td>\n",
              "      <td>0.960694</td>\n",
              "      <td>6.459658</td>\n",
              "    </tr>\n",
              "    <tr>\n",
              "      <th>Superior</th>\n",
              "      <td>0.151041</td>\n",
              "      <td>11.552917</td>\n",
              "      <td>0.038639</td>\n",
              "      <td>0.052689</td>\n",
              "      <td>0.883417</td>\n",
              "    </tr>\n",
              "  </tbody>\n",
              "</table>\n",
              "</div>\n",
              "    <div class=\"colab-df-buttons\">\n",
              "\n",
              "  <div class=\"colab-df-container\">\n",
              "    <button class=\"colab-df-convert\" onclick=\"convertToInteractive('df-4750ae72-5bf6-4297-a5f4-468fe48c8c65')\"\n",
              "            title=\"Convert this dataframe to an interactive table.\"\n",
              "            style=\"display:none;\">\n",
              "\n",
              "  <svg xmlns=\"http://www.w3.org/2000/svg\" height=\"24px\" viewBox=\"0 -960 960 960\">\n",
              "    <path d=\"M120-120v-720h720v720H120Zm60-500h600v-160H180v160Zm220 220h160v-160H400v160Zm0 220h160v-160H400v160ZM180-400h160v-160H180v160Zm440 0h160v-160H620v160ZM180-180h160v-160H180v160Zm440 0h160v-160H620v160Z\"/>\n",
              "  </svg>\n",
              "    </button>\n",
              "\n",
              "  <style>\n",
              "    .colab-df-container {\n",
              "      display:flex;\n",
              "      gap: 12px;\n",
              "    }\n",
              "\n",
              "    .colab-df-convert {\n",
              "      background-color: #E8F0FE;\n",
              "      border: none;\n",
              "      border-radius: 50%;\n",
              "      cursor: pointer;\n",
              "      display: none;\n",
              "      fill: #1967D2;\n",
              "      height: 32px;\n",
              "      padding: 0 0 0 0;\n",
              "      width: 32px;\n",
              "    }\n",
              "\n",
              "    .colab-df-convert:hover {\n",
              "      background-color: #E2EBFA;\n",
              "      box-shadow: 0px 1px 2px rgba(60, 64, 67, 0.3), 0px 1px 3px 1px rgba(60, 64, 67, 0.15);\n",
              "      fill: #174EA6;\n",
              "    }\n",
              "\n",
              "    .colab-df-buttons div {\n",
              "      margin-bottom: 4px;\n",
              "    }\n",
              "\n",
              "    [theme=dark] .colab-df-convert {\n",
              "      background-color: #3B4455;\n",
              "      fill: #D2E3FC;\n",
              "    }\n",
              "\n",
              "    [theme=dark] .colab-df-convert:hover {\n",
              "      background-color: #434B5C;\n",
              "      box-shadow: 0px 1px 3px 1px rgba(0, 0, 0, 0.15);\n",
              "      filter: drop-shadow(0px 1px 2px rgba(0, 0, 0, 0.3));\n",
              "      fill: #FFFFFF;\n",
              "    }\n",
              "  </style>\n",
              "\n",
              "    <script>\n",
              "      const buttonEl =\n",
              "        document.querySelector('#df-4750ae72-5bf6-4297-a5f4-468fe48c8c65 button.colab-df-convert');\n",
              "      buttonEl.style.display =\n",
              "        google.colab.kernel.accessAllowed ? 'block' : 'none';\n",
              "\n",
              "      async function convertToInteractive(key) {\n",
              "        const element = document.querySelector('#df-4750ae72-5bf6-4297-a5f4-468fe48c8c65');\n",
              "        const dataTable =\n",
              "          await google.colab.kernel.invokeFunction('convertToInteractive',\n",
              "                                                    [key], {});\n",
              "        if (!dataTable) return;\n",
              "\n",
              "        const docLinkHtml = 'Like what you see? Visit the ' +\n",
              "          '<a target=\"_blank\" href=https://colab.research.google.com/notebooks/data_table.ipynb>data table notebook</a>'\n",
              "          + ' to learn more about interactive tables.';\n",
              "        element.innerHTML = '';\n",
              "        dataTable['output_type'] = 'display_data';\n",
              "        await google.colab.output.renderOutput(dataTable, element);\n",
              "        const docLink = document.createElement('div');\n",
              "        docLink.innerHTML = docLinkHtml;\n",
              "        element.appendChild(docLink);\n",
              "      }\n",
              "    </script>\n",
              "  </div>\n",
              "\n",
              "\n",
              "<div id=\"df-2698ca20-edb3-4e6e-9e6b-9aa975efcab4\">\n",
              "  <button class=\"colab-df-quickchart\" onclick=\"quickchart('df-2698ca20-edb3-4e6e-9e6b-9aa975efcab4')\"\n",
              "            title=\"Suggest charts\"\n",
              "            style=\"display:none;\">\n",
              "\n",
              "<svg xmlns=\"http://www.w3.org/2000/svg\" height=\"24px\"viewBox=\"0 0 24 24\"\n",
              "     width=\"24px\">\n",
              "    <g>\n",
              "        <path d=\"M19 3H5c-1.1 0-2 .9-2 2v14c0 1.1.9 2 2 2h14c1.1 0 2-.9 2-2V5c0-1.1-.9-2-2-2zM9 17H7v-7h2v7zm4 0h-2V7h2v10zm4 0h-2v-4h2v4z\"/>\n",
              "    </g>\n",
              "</svg>\n",
              "  </button>\n",
              "\n",
              "<style>\n",
              "  .colab-df-quickchart {\n",
              "      --bg-color: #E8F0FE;\n",
              "      --fill-color: #1967D2;\n",
              "      --hover-bg-color: #E2EBFA;\n",
              "      --hover-fill-color: #174EA6;\n",
              "      --disabled-fill-color: #AAA;\n",
              "      --disabled-bg-color: #DDD;\n",
              "  }\n",
              "\n",
              "  [theme=dark] .colab-df-quickchart {\n",
              "      --bg-color: #3B4455;\n",
              "      --fill-color: #D2E3FC;\n",
              "      --hover-bg-color: #434B5C;\n",
              "      --hover-fill-color: #FFFFFF;\n",
              "      --disabled-bg-color: #3B4455;\n",
              "      --disabled-fill-color: #666;\n",
              "  }\n",
              "\n",
              "  .colab-df-quickchart {\n",
              "    background-color: var(--bg-color);\n",
              "    border: none;\n",
              "    border-radius: 50%;\n",
              "    cursor: pointer;\n",
              "    display: none;\n",
              "    fill: var(--fill-color);\n",
              "    height: 32px;\n",
              "    padding: 0;\n",
              "    width: 32px;\n",
              "  }\n",
              "\n",
              "  .colab-df-quickchart:hover {\n",
              "    background-color: var(--hover-bg-color);\n",
              "    box-shadow: 0 1px 2px rgba(60, 64, 67, 0.3), 0 1px 3px 1px rgba(60, 64, 67, 0.15);\n",
              "    fill: var(--button-hover-fill-color);\n",
              "  }\n",
              "\n",
              "  .colab-df-quickchart-complete:disabled,\n",
              "  .colab-df-quickchart-complete:disabled:hover {\n",
              "    background-color: var(--disabled-bg-color);\n",
              "    fill: var(--disabled-fill-color);\n",
              "    box-shadow: none;\n",
              "  }\n",
              "\n",
              "  .colab-df-spinner {\n",
              "    border: 2px solid var(--fill-color);\n",
              "    border-color: transparent;\n",
              "    border-bottom-color: var(--fill-color);\n",
              "    animation:\n",
              "      spin 1s steps(1) infinite;\n",
              "  }\n",
              "\n",
              "  @keyframes spin {\n",
              "    0% {\n",
              "      border-color: transparent;\n",
              "      border-bottom-color: var(--fill-color);\n",
              "      border-left-color: var(--fill-color);\n",
              "    }\n",
              "    20% {\n",
              "      border-color: transparent;\n",
              "      border-left-color: var(--fill-color);\n",
              "      border-top-color: var(--fill-color);\n",
              "    }\n",
              "    30% {\n",
              "      border-color: transparent;\n",
              "      border-left-color: var(--fill-color);\n",
              "      border-top-color: var(--fill-color);\n",
              "      border-right-color: var(--fill-color);\n",
              "    }\n",
              "    40% {\n",
              "      border-color: transparent;\n",
              "      border-right-color: var(--fill-color);\n",
              "      border-top-color: var(--fill-color);\n",
              "    }\n",
              "    60% {\n",
              "      border-color: transparent;\n",
              "      border-right-color: var(--fill-color);\n",
              "    }\n",
              "    80% {\n",
              "      border-color: transparent;\n",
              "      border-right-color: var(--fill-color);\n",
              "      border-bottom-color: var(--fill-color);\n",
              "    }\n",
              "    90% {\n",
              "      border-color: transparent;\n",
              "      border-bottom-color: var(--fill-color);\n",
              "    }\n",
              "  }\n",
              "</style>\n",
              "\n",
              "  <script>\n",
              "    async function quickchart(key) {\n",
              "      const quickchartButtonEl =\n",
              "        document.querySelector('#' + key + ' button');\n",
              "      quickchartButtonEl.disabled = true;  // To prevent multiple clicks.\n",
              "      quickchartButtonEl.classList.add('colab-df-spinner');\n",
              "      try {\n",
              "        const charts = await google.colab.kernel.invokeFunction(\n",
              "            'suggestCharts', [key], {});\n",
              "      } catch (error) {\n",
              "        console.error('Error during call to suggestCharts:', error);\n",
              "      }\n",
              "      quickchartButtonEl.classList.remove('colab-df-spinner');\n",
              "      quickchartButtonEl.classList.add('colab-df-quickchart-complete');\n",
              "    }\n",
              "    (() => {\n",
              "      let quickchartButtonEl =\n",
              "        document.querySelector('#df-2698ca20-edb3-4e6e-9e6b-9aa975efcab4 button');\n",
              "      quickchartButtonEl.style.display =\n",
              "        google.colab.kernel.accessAllowed ? 'block' : 'none';\n",
              "    })();\n",
              "  </script>\n",
              "</div>\n",
              "\n",
              "    </div>\n",
              "  </div>\n"
            ],
            "application/vnd.google.colaboratory.intrinsic+json": {
              "type": "dataframe",
              "summary": "{\n  \"name\": \"            # es lo mismo si probamos con TRUE\",\n  \"rows\": 6,\n  \"fields\": [\n    {\n      \"column\": \"nivel_educativo\",\n      \"properties\": {\n        \"dtype\": \"string\",\n        \"num_unique_values\": 6,\n        \"samples\": [\n          \"B\\u00e1sica especial\",\n          \"Maestr\\u00eda/Doctorado\",\n          \"Superior\"\n        ],\n        \"semantic_type\": \"\",\n        \"description\": \"\"\n      }\n    },\n    {\n      \"column\": \"Aimara\",\n      \"properties\": {\n        \"dtype\": \"number\",\n        \"std\": 0.30422716102673625,\n        \"min\": 0.0017562963223155012,\n        \"max\": 0.6129474164881099,\n        \"num_unique_values\": 6,\n        \"samples\": [\n          0.0017562963223155012,\n          0.01405037057852401,\n          0.1510414837191331\n        ],\n        \"semantic_type\": \"\",\n        \"description\": \"\"\n      }\n    },\n    {\n      \"column\": \"Castellano\",\n      \"properties\": {\n        \"dtype\": \"number\",\n        \"std\": 10.935384274165992,\n        \"min\": 0.09835259404966806,\n        \"max\": 25.2098774105167,\n        \"num_unique_values\": 6,\n        \"samples\": [\n          0.09835259404966806,\n          1.1644244616951773,\n          11.552917208191365\n        ],\n        \"semantic_type\": \"\",\n        \"description\": \"\"\n      }\n    },\n    {\n      \"column\": \"Lengua extranjera\",\n      \"properties\": {\n        \"dtype\": \"number\",\n        \"std\": 0.0193165983071432,\n        \"min\": 0.0,\n        \"max\": 0.04566370438020303,\n        \"num_unique_values\": 5,\n        \"samples\": [\n          0.0017562963223155012,\n          0.03863851909094102,\n          0.03161333380167902\n        ],\n        \"semantic_type\": \"\",\n        \"description\": \"\"\n      }\n    },\n    {\n      \"column\": \"Otra lengua nativa\",\n      \"properties\": {\n        \"dtype\": \"number\",\n        \"std\": 0.4044914769922946,\n        \"min\": 0.0,\n        \"max\": 0.960694088306579,\n        \"num_unique_values\": 6,\n        \"samples\": [\n          0.0,\n          0.007025185289262005,\n          0.05268888966946503\n        ],\n        \"semantic_type\": \"\",\n        \"description\": \"\"\n      }\n    },\n    {\n      \"column\": \"Quechua\",\n      \"properties\": {\n        \"dtype\": \"number\",\n        \"std\": 2.6320235265010363,\n        \"min\": 0.0035125926446310024,\n        \"max\": 6.459657873476413,\n        \"num_unique_values\": 6,\n        \"samples\": [\n          0.0035125926446310024,\n          0.06673926024798904,\n          0.883417050124697\n        ],\n        \"semantic_type\": \"\",\n        \"description\": \"\"\n      }\n    }\n  ]\n}"
            }
          },
          "metadata": {},
          "execution_count": 51
        }
      ]
    },
    {
      "cell_type": "markdown",
      "source": [
        "**A este punto lo deseable sería interpretar preliminarmente nuestros resultados, sin embargo...**\n",
        "\n",
        "Al analizar la tabla cruzada entre nivel educativo y lengua materna, es importante considerar ciertas **limitaciones en la interpretación** de los resultados. La principal limitación es la distribución altamente desproporcionada de la variable lengua materna, donde aproximadamente el 80% de los encuestados reporta el castellano como su primera lengua.\n",
        "\n",
        "Esta asimetría en la distribución puede generar dos problemas principales:\n",
        "\n",
        "1. **Dificultad para comparar grupos minoritarios:** Los valores correspondientes a lenguas maternas distintas del castellano son significativamente menores, lo que limita la posibilidad de obtener inferencias sólidas para estos grupos.\n",
        "\n",
        "2. **Impacto en la representatividad de los patrones observados:** Debido a la baja frecuencia de algunas categorías, las tendencias dentro de estos subgrupos pueden no ser estadísticamente robustas y estar sujetas a mayor variabilidad.\n",
        "\n",
        "Por estas razones, cualquier interpretación de la relación entre nivel educativo y lengua materna debe considerar este sesgo en la distribución de los datos."
      ],
      "metadata": {
        "id": "WPv3WaKMxkmt"
      }
    },
    {
      "cell_type": "markdown",
      "source": [
        "Pero no hay problema, vamos con nuestro siguiente cruce!"
      ],
      "metadata": {
        "id": "QXVaXYDQRugM"
      }
    },
    {
      "cell_type": "markdown",
      "source": [
        "Ahora queremos analizar el cruce del nivel educativo de un encuestado y su ingreso diario aproximado en soles."
      ],
      "metadata": {
        "id": "x7zUPy0dRuqs"
      }
    },
    {
      "cell_type": "code",
      "source": [
        "df_capital_humano.groupby('nivel_educativo')['ingreso_diario'].mean()"
      ],
      "metadata": {
        "colab": {
          "base_uri": "https://localhost:8080/",
          "height": 304
        },
        "id": "WDKj0SLUb7qg",
        "outputId": "bb83e20d-31b3-4553-d4dd-a81c849c1b35"
      },
      "execution_count": 52,
      "outputs": [
        {
          "output_type": "execute_result",
          "data": {
            "text/plain": [
              "nivel_educativo\n",
              "Básica especial       326.836207\n",
              "Maestría/Doctorado    346.514438\n",
              "Primaria              355.881950\n",
              "Secundaria            348.513987\n",
              "Sin nivel             349.720683\n",
              "Superior              344.738324\n",
              "Name: ingreso_diario, dtype: float64"
            ],
            "text/html": [
              "<div>\n",
              "<style scoped>\n",
              "    .dataframe tbody tr th:only-of-type {\n",
              "        vertical-align: middle;\n",
              "    }\n",
              "\n",
              "    .dataframe tbody tr th {\n",
              "        vertical-align: top;\n",
              "    }\n",
              "\n",
              "    .dataframe thead th {\n",
              "        text-align: right;\n",
              "    }\n",
              "</style>\n",
              "<table border=\"1\" class=\"dataframe\">\n",
              "  <thead>\n",
              "    <tr style=\"text-align: right;\">\n",
              "      <th></th>\n",
              "      <th>ingreso_diario</th>\n",
              "    </tr>\n",
              "    <tr>\n",
              "      <th>nivel_educativo</th>\n",
              "      <th></th>\n",
              "    </tr>\n",
              "  </thead>\n",
              "  <tbody>\n",
              "    <tr>\n",
              "      <th>Básica especial</th>\n",
              "      <td>326.836207</td>\n",
              "    </tr>\n",
              "    <tr>\n",
              "      <th>Maestría/Doctorado</th>\n",
              "      <td>346.514438</td>\n",
              "    </tr>\n",
              "    <tr>\n",
              "      <th>Primaria</th>\n",
              "      <td>355.881950</td>\n",
              "    </tr>\n",
              "    <tr>\n",
              "      <th>Secundaria</th>\n",
              "      <td>348.513987</td>\n",
              "    </tr>\n",
              "    <tr>\n",
              "      <th>Sin nivel</th>\n",
              "      <td>349.720683</td>\n",
              "    </tr>\n",
              "    <tr>\n",
              "      <th>Superior</th>\n",
              "      <td>344.738324</td>\n",
              "    </tr>\n",
              "  </tbody>\n",
              "</table>\n",
              "</div><br><label><b>dtype:</b> float64</label>"
            ]
          },
          "metadata": {},
          "execution_count": 52
        }
      ]
    },
    {
      "cell_type": "markdown",
      "source": [
        "**¡Qué extraño!** 🤔🤯\n",
        "\n",
        "Los resultados que obtuvimos presentan una distribución contraintuitiva del ingreso diario según nivel educativo, donde personas con menor educación parecen ganar montos similares o incluso mayores que aquellas con estudios superiores. Esta inconsistencia puede explicarse por problemas en la medición, como el subreporte de ingresos, diferencias en la estructura ocupacional de cada grupo o incluso sesgos en la forma en que se recogen y autodeclaran los datos en encuestas. En otras palabras, más que una relación real entre educación e ingresos, estos valores reflejan las limitaciones de los datos disponibles (y de nuestro sencillo y humilde procedimiento, que además carece de un **balanceo muestral**).\n",
        "\n",
        "\n",
        "**Sin embargo...** 💡🐱☝👓\n",
        "\n",
        "La lección clave aquí no es solo el resultado, sino el proceso. Aprendimos a construir y analizar una tabla cruzada entre una variable categórica y una numérica, pero también a ser críticos con nuestros hallazgos. Siempre debemos comparar, contextualizar y cuestionar nuestros resultados antes de interpretarlos como verdades absolutas. Aunque en este caso los datos presentan inconsistencias, el método sigue siendo útil y aplicable a una infinidad de variables en distintos análisis."
      ],
      "metadata": {
        "id": "DZcB3QvvRzJU"
      }
    },
    {
      "cell_type": "markdown",
      "source": [
        "### ¿Cómo sé la codificación de la base de datos que estoy usando?\n",
        "\n",
        "Usaremos la función chardet.detect"
      ],
      "metadata": {
        "id": "VmUypjjWXGAe"
      }
    },
    {
      "cell_type": "code",
      "source": [
        "!pip install cchardet\n",
        "import cchardet as chardet"
      ],
      "metadata": {
        "id": "CWD2MkozWZCY",
        "colab": {
          "base_uri": "https://localhost:8080/"
        },
        "outputId": "737e4e24-c43d-47c6-b63e-48af77a8065c"
      },
      "execution_count": null,
      "outputs": [
        {
          "output_type": "stream",
          "name": "stdout",
          "text": [
            "Collecting cchardet\n",
            "  Downloading cchardet-2.1.7.tar.gz (653 kB)\n",
            "\u001b[?25l     \u001b[90m━━━━━━━━━━━━━━━━━━━━━━━━━━━━━━━━━━━━━━━━\u001b[0m \u001b[32m0.0/653.6 kB\u001b[0m \u001b[31m?\u001b[0m eta \u001b[36m-:--:--\u001b[0m\r\u001b[2K     \u001b[90m━━━━━━━━━━━━━━━━━━━━━━━━━━━━━━━━━━━━━━━━\u001b[0m \u001b[32m653.6/653.6 kB\u001b[0m \u001b[31m22.3 MB/s\u001b[0m eta \u001b[36m0:00:00\u001b[0m\n",
            "\u001b[?25h  Preparing metadata (setup.py) ... \u001b[?25l\u001b[?25hdone\n",
            "Building wheels for collected packages: cchardet\n",
            "  Building wheel for cchardet (setup.py) ... \u001b[?25l\u001b[?25hdone\n",
            "  Created wheel for cchardet: filename=cchardet-2.1.7-cp310-cp310-linux_x86_64.whl size=289384 sha256=7ffe6050aa42043ecc336ae4b74b1f562f1981d1980d0598d41f2d28b8ec2560\n",
            "  Stored in directory: /root/.cache/pip/wheels/ee/e0/ab/e01326f15c59438d080b1496dbab8091e952ec72f35e3c437e\n",
            "Successfully built cchardet\n",
            "Installing collected packages: cchardet\n",
            "Successfully installed cchardet-2.1.7\n"
          ]
        }
      ]
    },
    {
      "cell_type": "code",
      "source": [
        "# Detectar la codificación del archivo\n",
        "def detect_encoding(file_path):\n",
        "    with open(file_path, 'rb') as file:\n",
        "        return chardet.detect(file.read())['encoding']\n",
        "\n",
        "# Usar la función\n",
        "encoding = detect_encoding('Enaho01A-2023-300.csv')\n",
        "print(encoding)"
      ],
      "metadata": {
        "colab": {
          "base_uri": "https://localhost:8080/"
        },
        "id": "ZD9ePLCUVZGJ",
        "outputId": "3701b8e3-198f-4f41-fb17-18c84c64df10"
      },
      "execution_count": null,
      "outputs": [
        {
          "output_type": "stream",
          "name": "stdout",
          "text": [
            "ISO-8859-10\n"
          ]
        }
      ]
    },
    {
      "cell_type": "code",
      "source": [
        "enaho_unido.columns"
      ],
      "metadata": {
        "colab": {
          "base_uri": "https://localhost:8080/"
        },
        "id": "RC86WjViX_KK",
        "outputId": "2bdc05b3-a7ca-4127-c4ed-e5537adfdccc"
      },
      "execution_count": null,
      "outputs": [
        {
          "output_type": "execute_result",
          "data": {
            "text/plain": [
              "Index(['AŅO_x', 'MES', 'CONGLOME', 'VIVIENDA', 'HOGAR', 'CODPERSO', 'UBIGEO_x',\n",
              "       'DOMINIO_x', 'ESTRATO_x', 'CODINFOR_x',\n",
              "       ...\n",
              "       'I538E1', 'I5294B', 'I5404B', 'I541A', 'OCU500', 'OCUPINF', 'EMPLPSEC',\n",
              "       'FAC500A', 'NCONGLOME_y', 'SUB_CONGLOME_y'],\n",
              "      dtype='object', length=1920)"
            ]
          },
          "metadata": {},
          "execution_count": 31
        }
      ]
    },
    {
      "cell_type": "code",
      "source": [
        "# Convertir las columnas a una lista y luego imprimir la lista\n",
        "column_list = enaho_unido.columns.tolist()\n",
        "print(column_list)"
      ],
      "metadata": {
        "colab": {
          "base_uri": "https://localhost:8080/"
        },
        "id": "HA9lVgLRaW7a",
        "outputId": "6e428965-5232-4e7e-a5c2-f4b8e0a2619f"
      },
      "execution_count": null,
      "outputs": [
        {
          "output_type": "stream",
          "name": "stdout",
          "text": [
            "['AŅO_x', 'MES', 'CONGLOME', 'VIVIENDA', 'HOGAR', 'CODPERSO', 'UBIGEO_x', 'DOMINIO_x', 'ESTRATO_x', 'CODINFOR_x', 'P300N', 'P300I', 'P300A', 'P301A_x', 'P301B', 'P301C', 'P301D', 'P301A0', 'P301A1', 'P301B0', 'P301B1', 'P301B3', 'P302', 'P302X', 'P302A', 'P302B', 'P303', 'P304A', 'P304B', 'P304C', 'P304D', 'P305', 'P306', 'P307', 'P307A1', 'P307A2', 'P307A3', 'P307A4', 'P307A4_5', 'P307A4_6', 'P307A4_7', 'P307B1', 'P307B2', 'P307B3', 'P307B4', 'P307B4_5', 'P307B4_6', 'P307B4_7', 'P307C', 'P308A', 'P308B', 'P308C', 'P308D', 'P308B1', 'P308B2', 'P308B3', 'P308B4', 'P308B5', 'P308C1', 'P308C2', 'P310', 'P310B1', 'P310C0', 'P310C1', 'P310D1', 'P310D2', 'P310E0', 'P310E1', 'P310E3', 'P311N$1', 'P311N$2', 'P311N$3', 'P311N$4', 'P311N$5', 'P311N$6', 'P311N$7', 'P311N$8', 'P311N$9', 'P311$1', 'P311$2', 'P311$3', 'P311$4', 'P311$5', 'P311$6', 'P311$7', 'P311$8', 'P311$9', 'P311A1$1', 'P311A1$2', 'P311A1$3', 'P311A1$4', 'P311A1$5', 'P311A1$6', 'P311A1$7', 'P311A1$8', 'P311A1$9', 'P311A2$1', 'P311A2$2', 'P311A2$3', 'P311A2$4', 'P311A2$5', 'P311A2$6', 'P311A2$7', 'P311A2$8', 'P311A2$9', 'P311A3$1', 'P311A3$2', 'P311A3$3', 'P311A3$4', 'P311A3$5', 'P311A3$6', 'P311A3$7', 'P311A3$8', 'P311A3$9', 'P311A4$1', 'P311A4$2', 'P311A4$3', 'P311A4$4', 'P311A4$5', 'P311A4$6', 'P311A4$7', 'P311A4$8', 'P311A4$9', 'P311A5$1', 'P311A5$2', 'P311A5$3', 'P311A5$4', 'P311A5$5', 'P311A5$6', 'P311A5$7', 'P311A5$8', 'P311A5$9', 'P311A6$1', 'P311A6$2', 'P311A6$3', 'P311A6$4', 'P311A6$5', 'P311A6$6', 'P311A6$7', 'P311A6$8', 'P311A6$9', 'P311A7$1', 'P311A7$2', 'P311A7$3', 'P311A7$4', 'P311A7$5', 'P311A7$6', 'P311A7$7', 'P311A7$8', 'P311A7$9', 'P311B$1', 'P311B$2', 'P311B$3', 'P311B$4', 'P311B$5', 'P311B$6', 'P311B$7', 'P311B$8', 'P311B$9', 'P311C$1', 'P311C$2', 'P311C$3', 'P311C$4', 'P311C$5', 'P311C$6', 'P311C$7', 'P311C$8', 'P311C$9', 'P311D$1', 'P311D$2', 'P311D$3', 'P311D$4', 'P311D$5', 'P311D$6', 'P311D$7', 'P311D$8', 'P311D$9', 'P311D2$1', 'P311D2$2', 'P311D2$3', 'P311D2$4', 'P311D2$5', 'P311D2$6', 'P311D2$7', 'P311D2$8', 'P311D2$9', 'P311D3$1', 'P311D3$2', 'P311D3$3', 'P311D3$4', 'P311D3$5', 'P311D3$6', 'P311D3$7', 'P311D3$8', 'P311D3$9', 'P311D4$1', 'P311D4$2', 'P311D4$3', 'P311D4$4', 'P311D4$5', 'P311D4$6', 'P311D4$7', 'P311D4$8', 'P311D4$9', 'P311D5$1', 'P311D5$2', 'P311D5$3', 'P311D5$4', 'P311D5$5', 'P311D5$6', 'P311D5$7', 'P311D5$8', 'P311D5$9', 'P311D6$1', 'P311D6$2', 'P311D6$3', 'P311D6$4', 'P311D6$5', 'P311D6$6', 'P311D6$7', 'P311D6$8', 'P311D6$9', 'P311D7$1', 'P311D7$2', 'P311D7$3', 'P311D7$4', 'P311D7$5', 'P311D7$6', 'P311D7$7', 'P311D7$8', 'P311D7$9', 'P311E$1', 'P311E$2', 'P311E$3', 'P311E$4', 'P311E$5', 'P311E$6', 'P311E$7', 'P311E$8', 'P311E$9', 'P311T1', 'P311T22', 'P311T23', 'P311T24', 'P311T25', 'P311T26', 'P311T27', 'P311T2', 'P3121', 'P3121A1', 'P3121A2', 'P3121A3', 'P3121A4', 'P3121A5', 'P3121A6', 'P3121B', 'P3121C', 'P3121C2', 'P3121C3', 'P3121C4', 'P3121C5', 'P3121C6', 'P3121D', 'P3122', 'P3122A1', 'P3122A2', 'P3122A3', 'P3122A4', 'P3122A5', 'P3122A6', 'P3122B', 'P3122C', 'P3122C2', 'P3122C3', 'P3122C4', 'P3122C5', 'P3122C6', 'P3122D', 'P312T1', 'P312T22', 'P312T23', 'P312T24', 'P312T25', 'P312T26', 'P312T2', 'P313', 'P314A', 'P314B$1', 'P314B$2', 'P314B$3', 'P314B$4', 'P314B$5', 'P314B$6', 'P314B$7', 'P314B1_1', 'P314B1_2', 'P314B1_6', 'P314B1_7', 'P314B1_8', 'P314B1_9', 'P314D', 'P3151', 'P3152', 'P3153', 'P3154', 'P3155', 'P3156', 'P315A', 'P315B', 'P315B2', 'P315B3', 'P315B4', 'P315B5', 'P315B6', 'P316$1', 'P316$2', 'P316$3', 'P316$4', 'P316$5', 'P316$6', 'P316$7', 'P316$8', 'P316$9', 'P316$10', 'P316$11', 'P316$12', 'P316A1', 'P316A2', 'P316A3', 'P316A4', 'P316A5', 'P316A6', 'P316B', 'P316C1', 'P316C2', 'P316C3', 'P316C4', 'P316C5', 'P316C6', 'P316C7', 'P316C8', 'P316C9', 'P316C10', 'T313A', 'P203_x', 'P204_x', 'P205_x', 'P206_x', 'P207_x', 'P208A_x', 'P209_x', 'IMPUTADO_x', 'TICUEST01A_x', 'D311B$1', 'D311D2$1', 'D311D3$1', 'D311D4$1', 'D311D5$1', 'D311D6$1', 'D311D7$1', 'D311D$1', 'D311B$2', 'D311D2$2', 'D311D3$2', 'D311D4$2', 'D311D5$2', 'D311D6$2', 'D311D7$2', 'D311D$2', 'D311B$3', 'D311D2$3', 'D311D3$3', 'D311D4$3', 'D311D5$3', 'D311D6$3', 'D311D7$3', 'D311D$3', 'D311B$4', 'D311D2$4', 'D311D3$4', 'D311D4$4', 'D311D5$4', 'D311D6$4', 'D311D7$4', 'D311D$4', 'D311B$5', 'D311D2$5', 'D311D3$5', 'D311D4$5', 'D311D5$5', 'D311D6$5', 'D311D7$5', 'D311D$5', 'D311B$6', 'D311D2$6', 'D311D3$6', 'D311D4$6', 'D311D5$6', 'D311D6$6', 'D311D7$6', 'D311D$6', 'D311B$7', 'D311D2$7', 'D311D3$7', 'D311D4$7', 'D311D5$7', 'D311D6$7', 'D311D7$7', 'D311D$7', 'D3121B', 'D3121C2', 'D3121C3', 'D3121C4', 'D3121C5', 'D3121C6', 'D3121C', 'D3122B', 'D3122C2', 'D3122C3', 'D3122C4', 'D3122C5', 'D3122C6', 'D3122C', 'D315A', 'D315B2', 'D315B3', 'D315B4', 'D315B5', 'D315B6', 'D315B', 'I311B$1', 'I311B$2', 'I311B$4', 'I311B$6', 'I311B$3', 'I311B$5', 'I311B$7', 'I311D2$1', 'I311D3$1', 'I311D4$1', 'I311D5$1', 'I311D6$1', 'I311D7$1', 'I311D2$2', 'I311D3$2', 'I311D4$2', 'I311D5$2', 'I311D6$2', 'I311D7$2', 'I311D2$4', 'I311D3$4', 'I311D4$4', 'I311D5$4', 'I311D6$4', 'I311D7$4', 'I311D2$6', 'I311D3$6', 'I311D4$6', 'I311D5$6', 'I311D6$6', 'I311D7$6', 'I311D2$3', 'I311D3$3', 'I311D4$3', 'I311D5$3', 'I311D6$3', 'I311D7$3', 'I311D2$5', 'I311D3$5', 'I311D4$5', 'I311D5$5', 'I311D6$5', 'I311D7$5', 'I311D2$7', 'I311D3$7', 'I311D4$7', 'I311D5$7', 'I311D6$7', 'I311D7$7', 'I3121B', 'I3122B', 'I3121C2', 'I3121C3', 'I3121C4', 'I3121C5', 'I3121C6', 'I3122C2', 'I3122C3', 'I3122C4', 'I3122C5', 'I3122C6', 'I315A', 'I315B2', 'I315B3', 'I315B4', 'I315B5', 'I315B6', 'I311D$1', 'I311D$2', 'I311D$3', 'I311D$4', 'I311D$5', 'I311D$6', 'I311D$7', 'I3121C', 'I3122C', 'I315B', 'FACTOR07', 'FACTORA07', 'NCONGLOME_x', 'SUB_CONGLOME_x', 'AŅO_y', 'UBIGEO_y', 'DOMINIO_y', 'ESTRATO_y', 'CODINFOR_y', 'P500A', 'P500B', 'P500B1', 'P500C', 'P500D', 'P500D1', 'P500N', 'P500I', 'P501', 'P502', 'P503', 'P504', 'P5041', 'P5042', 'P5043', 'P5044', 'P5045', 'P5046', 'P5047', 'P5048', 'P5049', 'P50410', 'P50411', 'P505', 'P505R4', 'P505B', 'P506', 'P506R4', 'P507', 'P508', 'P509', 'P510', 'P510A1', 'P510B', 'P5111', 'P5112', 'P5113', 'P5114', 'P5115', 'P5116', 'P5117', 'P5118', 'P5119', 'P51110', 'P51111', 'P51112', 'P511A', 'P512A', 'P512B', 'P513', 'P513A', 'P513B', 'P513C', 'P513D', 'P513E', 'P513F', 'P513G', 'P513T', 'P513A1', 'P513A2', 'P514', 'P5151', 'P5152', 'P5153', 'P5154', 'P5155', 'P5156', 'P5157', 'P5158', 'P5159', 'P51510', 'P51511', 'P516', 'P516R4', 'P517', 'P517A', 'P517B1', 'P517C', 'P517D1', 'P517D2', 'P518', 'P519', 'P520', 'P520A', 'P521', 'P521A', 'P521B', 'P521B1', 'P521C', 'P521D', 'P523', 'P524A1', 'P524A2', 'P524B1', 'P524B2', 'P524C1', 'P524C2', 'P524D1', 'P524D2', 'P524E1', 'P524E2', 'P528', 'P5291A', 'P5291B', 'P5291C', 'P5292A', 'P5292B', 'P5292C', 'P5293A', 'P5293B', 'P5293C', 'P5294A', 'P5294B', 'P5294C', 'P5295A', 'P5295B', 'P5295C', 'P5296A', 'P5296B', 'P5296C', 'P529T', 'P5297A', 'P530A', 'P530B', 'P535', 'P536', 'P5371', 'P5372', 'P5373', 'P5374', 'P5375', 'P5376', 'P5377', 'P5378', 'P5379', 'P53710', 'P53711', 'P53712', 'P538A1', 'P538A2', 'P538B1', 'P538B2', 'P538C1', 'P538C2', 'P538D1', 'P538D2', 'P538E1', 'P538E2', 'P539', 'P5401A', 'P5401B', 'P5401C', 'P5402A', 'P5402B', 'P5402C', 'P5403A', 'P5403B', 'P5403C', 'P5404A', 'P5404B', 'P5404C', 'P5405A', 'P5405B', 'P5405C', 'P5406A', 'P5406B', 'P5406C', 'P540T', 'P5407A', 'P541A', 'P541B', 'P542', 'P543', 'P5441A', 'P5441B', 'P5442A', 'P5442B', 'P5443A', 'P5443B', 'P5444A', 'P5444B', 'P5445A', 'P5445B', 'P5446A', 'P5446B', 'P5447A', 'P5447B', 'P5448A', 'P5448B', 'P544T', 'P545', 'P546', 'P547', 'P548', 'P549', 'P550_1', 'P550_2', 'P550_3', 'P550_4', 'P550_5', 'P550_6', 'P550_7', 'P550_GI', 'P551', 'P552', 'P554', 'P554R4', 'P555', 'P5561A', 'P5561B', 'P5561C', 'P5561D', 'P5561E', 'P5562A', 'P5562B', 'P5562C', 'P5562D', 'P5562E', 'P5563A', 'P5563B', 'P5563C', 'P5563C1', 'P5563D', 'P5563E', 'P5563F', 'P5563G', 'P5564A', 'P5564B', 'P5564C', 'P5564D', 'P5564E', 'P5565A', 'P5565B', 'P5565C', 'P5565D', 'P5565E', 'P5566A', 'P5566B', 'P5566C', 'P5566D', 'P5566E', 'P5567A', 'P5567B', 'P5567C', 'P5567D', 'P5567E', 'P5568A', 'P5568B', 'P5568C', 'P5568D', 'P5568E', 'P5569A', 'P5569B', 'P5569C', 'P5569D', 'P5569E', 'P55610A', 'P55610B', 'P55610C', 'P55610D', 'P55610E', 'P55611A', 'P55611B', 'P55611C', 'P55611D', 'P55611E', 'P55612A', 'P55612B', 'P55612C', 'P55612D', 'P55612E', 'P55613A', 'P55613B', 'P55613C', 'P55613D', 'P55613E', 'P55614A', 'P55614B', 'P55614C', 'P55614D', 'P55614E', 'P55620A', 'P55620B', 'P55620C', 'P55620D', 'P55620E', 'P55621A', 'P55621B', 'P55621C', 'P55621D', 'P55621E', 'P55622A', 'P55622B', 'P55622C', 'P55622D', 'P55622E', 'P55623A', 'P55623B', 'P55623C', 'P55623D', 'P55623E', 'P55624A', 'P55624B', 'P55624C', 'P55624D', 'P55624E', 'P55625A', 'P55625B', 'P55625C', 'P55625D', 'P55625E', 'P55626A', 'P55626B', 'P55626C', 'P55626D', 'P55626E', 'P55627A', 'P55627B', 'P55627C', 'P55627D', 'P55627E', 'P55628A', 'P55628B', 'P55628C', 'P55628D', 'P55628E', 'P556T1', 'P556T2', 'P5571A', 'P5571B', 'P5571C', 'P5572A', 'P5572B', 'P5572C', 'P5573A', 'P5573B', 'P5573C', 'P5574A', 'P5574B', 'P5574C', 'P5575A', 'P5575B', 'P5575C', 'P5576A', 'P5576B', 'P5576C', 'P5577A', 'P5577B', 'P5577C', 'P5578A', 'P5578B', 'P5578C', 'P557T', 'P5581A', 'P5581B', 'P5582A', 'P5582B', 'P5583A', 'P5583B', 'P5584A', 'P5584B', 'P5585A', 'P5585B', 'P5586A', 'P5586B', 'P5587A', 'P5587B', 'P5588A', 'P5588B', 'P5589A', 'P5589B', 'P55810A', 'P55810B', 'P558T', 'P558T1', 'P558A1', 'P558A2', 'P558A3', 'P558A4', 'P558A5', 'P558B1', 'P558B2', 'P558B3', 'P558C', 'P558D2_1', 'P558D2_2', 'P558E1_1', 'P558E1_2', 'P558E1_3', 'P558E1_6', 'P558E1_7', 'P558E2_1', 'P558E3_1', 'P558E2_2', 'P558E3_2', 'P558F1A', 'P558F1B', 'P558G1', 'P558G2', 'P558G3', 'P558G5', 'P558G6', 'P558G7', 'P558H1_1', 'P558H1_2', 'P558H1_3', 'P558H1_4', 'P558H1_5', 'P558H1_6', 'P558H2_1', 'P558H2_2', 'P558H2_3', 'P558H2_4', 'P558H2_5', 'P558H2_6', 'P558H3_1', 'P558H3_2', 'P558H3_3', 'P558H3_4', 'P558H3_5', 'P558H3_6', 'P558H4_1', 'P558H4_2', 'P558H4_3', 'P558H4_4', 'P558H4_5', 'P558H4_6', 'P558H5_1', 'P558H5_2', 'P558H5_3', 'P558H5_4', 'P558H5_5', 'P558H5_6', 'P558H6_1', 'P558H6_2', 'P558H6_3', 'P558H6_4', 'P558H6_5', 'P558H6_6', 'P558H7_1', 'P558H7_2', 'P558H7_3', 'P558H7_4', 'P558H7_5', 'P558H7_6', 'P558H8_1', 'P558H8_2', 'P558H8_3', 'P558H8_4', 'P558H8_5', 'P558H8_6', 'P558H9_1', 'P558H9_2', 'P558H9_3', 'P558H9_4', 'P558H9_5', 'P558H9_6', 'P558H10_1', 'P558H10_2', 'P558H10_3', 'P558H10_4', 'P558H10_5', 'P558H10_6', 'P558H11_1', 'P558H11_2', 'P558H11_3', 'P558H11_4', 'P558H11_5', 'P558H11_6', 'P558H12_1', 'P558H12_2', 'P558H12_3', 'P558H12_4', 'P558H12_5', 'P558H12_6', 'P559$01', 'P559$02', 'P559$03', 'P559$04', 'P559$05', 'P559$06', 'P559$07', 'P559$08', 'P559$09', 'P559$10', 'P559$11', 'P559$12', 'P559$13', 'P559$14', 'P559$15', 'P559$16', 'P559$17', 'P559$18', 'P559$19', 'P559$20', 'P559$21', 'P559$22', 'P559$23', 'P559$24', 'P559$25', 'P559$26', 'P559$27', 'P559$28', 'P559$29', 'P559$30', 'P559$31', 'P559$32', 'P559$33', 'P559$34', 'P559$35', 'P559$36', 'P559$37', 'P559$38', 'P559$39', 'P559$40', 'P559$41', 'P559$42', 'P559$43', 'P559$44', 'P559$45', 'P559$46', 'P559$47', 'P559$48', 'P559$49', 'P559$50', 'P559T$01', 'P559T$02', 'P559T$03', 'P559T$04', 'P559T$05', 'P559T$06', 'P559T$07', 'P559T$08', 'P559T$09', 'P559T$10', 'P559T$11', 'P559T$12', 'P559T$13', 'P559T$14', 'P559T$15', 'P559T$16', 'P559T$17', 'P559T$18', 'P559T$19', 'P559T$20', 'P559T$21', 'P559T$22', 'P559T$23', 'P559T$24', 'P559T$25', 'P559T$26', 'P559T$27', 'P559T$28', 'P559T$29', 'P559T$30', 'P559T$31', 'P559T$32', 'P559T$33', 'P559T$34', 'P559T$35', 'P559T$36', 'P559T$37', 'P559T$38', 'P559T$39', 'P559T$40', 'P559T$41', 'P559T$42', 'P559T$43', 'P559T$44', 'P559T$45', 'P559T$46', 'P559T$47', 'P559T$48', 'P559T$49', 'P559T$50', 'P559A$01', 'P559A$02', 'P559A$03', 'P559A$04', 'P559A$05', 'P559A$06', 'P559A$07', 'P559A$08', 'P559A$09', 'P559A$10', 'P559A$11', 'P559A$12', 'P559A$13', 'P559A$14', 'P559A$15', 'P559A$16', 'P559A$17', 'P559A$18', 'P559A$19', 'P559A$20', 'P559A$21', 'P559A$22', 'P559A$23', 'P559A$24', 'P559A$25', 'P559A$26', 'P559A$27', 'P559A$28', 'P559A$29', 'P559A$30', 'P559A$31', 'P559A$32', 'P559A$33', 'P559A$34', 'P559A$35', 'P559A$36', 'P559A$37', 'P559A$38', 'P559A$39', 'P559A$40', 'P559A$41', 'P559A$42', 'P559A$43', 'P559A$44', 'P559A$45', 'P559A$46', 'P559A$47', 'P559A$48', 'P559A$49', 'P559A$50', 'P559B$01', 'P559B$02', 'P559B$03', 'P559B$04', 'P559B$05', 'P559B$06', 'P559B$07', 'P559B$08', 'P559B$09', 'P559B$10', 'P559B$11', 'P559B$12', 'P559B$13', 'P559B$14', 'P559B$15', 'P559B$16', 'P559B$17', 'P559B$18', 'P559B$19', 'P559B$20', 'P559B$21', 'P559B$22', 'P559B$23', 'P559B$24', 'P559B$25', 'P559B$26', 'P559B$27', 'P559B$28', 'P559B$29', 'P559B$30', 'P559B$31', 'P559B$32', 'P559B$33', 'P559B$34', 'P559B$35', 'P559B$36', 'P559B$37', 'P559B$38', 'P559B$39', 'P559B$40', 'P559B$41', 'P559B$42', 'P559B$43', 'P559B$44', 'P559B$45', 'P559B$46', 'P559B$47', 'P559B$48', 'P559B$49', 'P559B$50', 'P559C$01', 'P559C$02', 'P559C$03', 'P559C$04', 'P559C$05', 'P559C$06', 'P559C$07', 'P559C$08', 'P559C$09', 'P559C$10', 'P559C$11', 'P559C$12', 'P559C$13', 'P559C$14', 'P559C$15', 'P559C$16', 'P559C$17', 'P559C$18', 'P559C$19', 'P559C$20', 'P559C$21', 'P559C$22', 'P559C$23', 'P559C$24', 'P559C$25', 'P559C$26', 'P559C$27', 'P559C$28', 'P559C$29', 'P559C$30', 'P559C$31', 'P559C$32', 'P559C$33', 'P559C$34', 'P559C$35', 'P559C$36', 'P559C$37', 'P559C$38', 'P559C$39', 'P559C$40', 'P559C$41', 'P559C$42', 'P559C$43', 'P559C$44', 'P559C$45', 'P559C$46', 'P559C$47', 'P559C$48', 'P559C$49', 'P559C$50', 'P559D$01', 'P559D$02', 'P559D$03', 'P559D$04', 'P559D$05', 'P559D$06', 'P559D$07', 'P559D$08', 'P559D$09', 'P559D$10', 'P559D$11', 'P559D$12', 'P559D$13', 'P559D$14', 'P559D$15', 'P559D$16', 'P559D$17', 'P559D$18', 'P559D$19', 'P559D$20', 'P559D$21', 'P559D$22', 'P559D$23', 'P559D$24', 'P559D$25', 'P559D$26', 'P559D$27', 'P559D$28', 'P559D$29', 'P559D$30', 'P559D$31', 'P559D$32', 'P559D$33', 'P559D$34', 'P559D$35', 'P559D$36', 'P559D$37', 'P559D$38', 'P559D$39', 'P559D$40', 'P559D$41', 'P559D$42', 'P559D$43', 'P559D$44', 'P559D$45', 'P559D$46', 'P559D$47', 'P559D$48', 'P559D$49', 'P559D$50', 'P559E$01', 'P559E$02', 'P559E$03', 'P559E$04', 'P559E$05', 'P559E$06', 'P559E$07', 'P559E$08', 'P559E$09', 'P559E$10', 'P559E$11', 'P559E$12', 'P559E$13', 'P559E$14', 'P559E$15', 'P559E$16', 'P559E$17', 'P559E$18', 'P559E$19', 'P559E$20', 'P559E$21', 'P559E$22', 'P559E$23', 'P559E$24', 'P559E$25', 'P559E$26', 'P559E$27', 'P559E$28', 'P559E$29', 'P559E$30', 'P559E$31', 'P559E$32', 'P559E$33', 'P559E$34', 'P559E$35', 'P559E$36', 'P559E$37', 'P559E$38', 'P559E$39', 'P559E$40', 'P559E$41', 'P559E$42', 'P559E$43', 'P559E$44', 'P559E$45', 'P559E$46', 'P559E$47', 'P559E$48', 'P559E$49', 'P559E$50', 'P59F1$01', 'P59F1$02', 'P59F1$03', 'P59F1$04', 'P59F1$05', 'P59F1$06', 'P59F1$07', 'P59F1$08', 'P59F1$09', 'P59F1$10', 'P59F1$11', 'P59F1$12', 'P59F1$13', 'P59F1$14', 'P59F1$15', 'P59F1$16', 'P59F1$17', 'P59F1$18', 'P59F1$19', 'P59F1$20', 'P59F1$21', 'P59F1$22', 'P59F1$23', 'P59F1$24', 'P59F1$25', 'P59F1$26', 'P59F1$27', 'P59F1$28', 'P59F1$29', 'P59F1$30', 'P59F1$31', 'P59F1$32', 'P59F1$33', 'P59F1$34', 'P59F1$35', 'P59F1$36', 'P59F1$37', 'P59F1$38', 'P59F1$39', 'P59F1$40', 'P59F1$41', 'P59F1$42', 'P59F1$43', 'P59F1$44', 'P59F1$45', 'P59F1$46', 'P59F1$47', 'P59F1$48', 'P59F1$49', 'P59F1$50', 'P59F2$01', 'P59F2$02', 'P59F2$03', 'P59F2$04', 'P59F2$05', 'P59F2$06', 'P59F2$07', 'P59F2$08', 'P59F2$09', 'P59F2$10', 'P59F2$11', 'P59F2$12', 'P59F2$13', 'P59F2$14', 'P59F2$15', 'P59F2$16', 'P59F2$17', 'P59F2$18', 'P59F2$19', 'P59F2$20', 'P59F2$21', 'P59F2$22', 'P59F2$23', 'P59F2$24', 'P59F2$25', 'P59F2$26', 'P59F2$27', 'P59F2$28', 'P59F2$29', 'P59F2$30', 'P59F2$31', 'P59F2$32', 'P59F2$33', 'P59F2$34', 'P59F2$35', 'P59F2$36', 'P59F2$37', 'P59F2$38', 'P59F2$39', 'P59F2$40', 'P59F2$41', 'P59F2$42', 'P59F2$43', 'P59F2$44', 'P59F2$45', 'P59F2$46', 'P59F2$47', 'P59F2$48', 'P59F2$49', 'P59F2$50', 'P560T$01', 'P560T$02', 'P560T$03', 'P560T$04', 'P560T$05', 'P560T$06', 'P560T$07', 'P560T$08', 'P560T$09', 'P560T$10', 'P560A1$01', 'P560A1$02', 'P560A1$03', 'P560A1$04', 'P560A1$05', 'P560A1$06', 'P560A1$07', 'P560A1$08', 'P560A1$09', 'P560A1$10', 'P560A$01', 'P560A$02', 'P560A$03', 'P560A$04', 'P560A$05', 'P560A$06', 'P560A$07', 'P560A$08', 'P560A$09', 'P560A$10', 'P560C$01', 'P560C$02', 'P560C$03', 'P560C$04', 'P560C$05', 'P560C$06', 'P560C$07', 'P560C$08', 'P560C$09', 'P560C$10', 'P560D$01', 'P560D$02', 'P560D$03', 'P560D$04', 'P560D$05', 'P560D$06', 'P560D$07', 'P560D$08', 'P560D$09', 'P560D$10', 'P560E$01', 'P560E$02', 'P560E$03', 'P560E$04', 'P560E$05', 'P560E$06', 'P560E$07', 'P560E$08', 'P560E$09', 'P560E$10', 'P560F1$01', 'P560F1$02', 'P560F1$03', 'P560F1$04', 'P560F1$05', 'P560F1$06', 'P560F1$07', 'P560F1$08', 'P560F1$09', 'P560F1$10', 'P560F2$01', 'P560F2$02', 'P560F2$03', 'P560F2$04', 'P560F2$05', 'P560F2$06', 'P560F2$07', 'P560F2$08', 'P560F2$09', 'P560F2$10', 'P599', 'P203_y', 'P204_y', 'P205_y', 'P206_y', 'P207_y', 'P208A_y', 'P209_y', 'P301A_y', 'IMPUTADO_y', 'TICUEST01A_y', 'D524A1', 'D524B1', 'D524C1', 'D524D1', 'D524E1', 'D5291B', 'D5292B', 'D5293B', 'D5294B', 'D5295B', 'D5296B', 'D529T', 'D530A', 'D536', 'D538A1', 'D538B1', 'D538C1', 'D538D1', 'D538E1', 'D5401B', 'D5402B', 'D5403B', 'D5404B', 'D5405B', 'D5406B', 'D540T', 'D541A', 'D543', 'D5441B', 'D5442B', 'D5443B', 'D5444B', 'D5445B', 'D5446B', 'D5447B', 'D5448B', 'D544T', 'D5561C', 'D5561E', 'D5562C', 'D5562E', 'D5563C', 'D5563E', 'D5564C', 'D5564E', 'D5565C', 'D5565E', 'D5566C', 'D5566E', 'D5567C', 'D5567E', 'D5568C', 'D5568E', 'D5569C', 'D5569E', 'D55610C', 'D55610E', 'D55611C', 'D55611E', 'D55612C', 'D55612E', 'D55613C', 'D55613E', 'D55614C', 'D55614E', 'D55620C', 'D55620E', 'D55621C', 'D55621E', 'D55622C', 'D55622E', 'D55623C', 'D55623E', 'D55624C', 'D55624E', 'D55625C', 'D55625E', 'D55626C', 'D55626E', 'D55627C', 'D55627E', 'D55628C', 'D55628E', 'D556T1', 'D556T2', 'D5571C', 'D5572C', 'D5573C', 'D5574C', 'D5575C', 'D5576C', 'D5577C', 'D5578C', 'D557T', 'D558T', 'D559D1', 'D559D2', 'D559D3', 'D559D41', 'D559D42', 'D559D43', 'D559D44', 'D559D45', 'D559D46', 'D559D47', 'D559D48', 'D559D49', 'D559D410', 'D559D411', 'D559D412', 'D559D413', 'D559D414', 'D559D415', 'D559D416', 'D559D417', 'D559D418', 'D559D419', 'D559D420', 'D559D421', 'D559D422', 'D559D423', 'D559D424', 'D559D425', 'D559D426', 'D559D427', 'D559D428', 'D559D429', 'D559D430', 'D559D431', 'D559D432', 'D559D433', 'D559D434', 'D559D435', 'D559D436', 'D559D437', 'D559D438', 'D559D439', 'D559D440', 'D559D441', 'D559D442', 'D559D443', 'D559D444', 'D559D445', 'D559D446', 'D559D447', 'D560D1', 'D560D2', 'D560D3', 'D560D4', 'D560D5', 'D560D6', 'D560D7', 'D560D8', 'D560D9', 'D560D10', 'T559B$01', 'T559B$02', 'T559B$03', 'T559B$04', 'T559B$05', 'T559B$06', 'T559B$07', 'T559B$08', 'T559B$09', 'T559B$10', 'T559B$11', 'T559B$12', 'T559B$13', 'T559B$14', 'T559B$15', 'T559B$16', 'T559B$17', 'T559B$18', 'T559B$19', 'T559B$20', 'T559B$21', 'T559B$22', 'T559B$23', 'T559B$24', 'T559B$25', 'T559B$26', 'T559B$27', 'T559B$28', 'T559B$29', 'T559B$30', 'T559B$31', 'T559B$32', 'T559B$33', 'T559B$34', 'T559B$35', 'T559B$36', 'T559B$37', 'T559B$38', 'T559B$39', 'T559B$40', 'T559B$41', 'T559B$42', 'T559B$43', 'T559B$44', 'T559B$45', 'T559B$46', 'T559B$47', 'T559B$48', 'T559B$49', 'T559B$50', 'Z559B$01', 'Z559B$02', 'Z559B$03', 'Z559B$04', 'Z559B$05', 'Z559B$06', 'Z559B$07', 'Z559B$08', 'Z559B$09', 'Z559B$10', 'Z559B$11', 'Z559B$12', 'Z559B$13', 'Z559B$14', 'Z559B$15', 'Z559B$16', 'Z559B$17', 'Z559B$18', 'Z559B$19', 'Z559B$20', 'Z559B$21', 'Z559B$22', 'Z559B$23', 'Z559B$24', 'Z559B$25', 'Z559B$26', 'Z559B$27', 'Z559B$28', 'Z559B$29', 'Z559B$30', 'Z559B$31', 'Z559B$32', 'Z559B$33', 'Z559B$34', 'Z559B$35', 'Z559B$36', 'Z559B$37', 'Z559B$38', 'Z559B$39', 'Z559B$40', 'Z559B$41', 'Z559B$42', 'Z559B$43', 'Z559B$44', 'Z559B$45', 'Z559B$46', 'Z559B$47', 'Z559B$48', 'Z559B$49', 'Z559B$50', 'I559D1', 'I559D2', 'I559D3', 'I559D41', 'I559D42', 'I559D43', 'I559D44', 'I559D45', 'I559D46', 'I559D47', 'I559D48', 'I559D49', 'I559D410', 'I559D411', 'I559D412', 'I559D413', 'I559D414', 'I559D415', 'I559D416', 'I559D417', 'I559D418', 'I559D419', 'I559D420', 'I559D421', 'I559D422', 'I559D423', 'I559D424', 'I559D425', 'I559D426', 'I559D427', 'I559D428', 'I559D429', 'I559D430', 'I559D431', 'I559D432', 'I559D433', 'I559D434', 'I559D435', 'I559D436', 'I559D437', 'I559D438', 'I559D439', 'I559D440', 'I559D441', 'I559D442', 'I559D443', 'I559D444', 'I559D445', 'I559D446', 'I559D447', 'I560D1', 'I560D2', 'I560D3', 'I560D4', 'I560D5', 'I560D6', 'I560D7', 'I560D8', 'I560D9', 'I560D10', 'R559_01', 'R559_02', 'R559_03', 'R559_04', 'R559_05', 'R559_06', 'R559_07', 'R559_08', 'R559_09', 'R559_10', 'R559_11', 'R559_12', 'R559_13', 'R559_14', 'R559_15', 'R559_16', 'R559_17', 'R559_18', 'R559_19', 'R559_20', 'R559_21', 'R559_22', 'R559_23', 'R559_24', 'R559_25', 'R559_26', 'R559_27', 'R559_28', 'R559_29', 'R559_30', 'R559_31', 'R559_32', 'R559_33', 'R559_34', 'R559_35', 'R559_36', 'R559_37', 'R559_38', 'R559_39', 'R559_40', 'R559_41', 'R559_42', 'R559_43', 'R559_44', 'R559_45', 'R559_46', 'R559_47', 'R559_48', 'R559_49', 'R559_50', 'I518', 'I513T', 'I520', 'I530A', 'I524A1', 'I524B1', 'I524C1', 'I524D1', 'I524E1', 'I538A1', 'I538B1', 'I538C1', 'I538D1', 'I538E1', 'I5294B', 'I5404B', 'I541A', 'OCU500', 'OCUPINF', 'EMPLPSEC', 'FAC500A', 'NCONGLOME_y', 'SUB_CONGLOME_y']\n"
          ]
        }
      ]
    },
    {
      "cell_type": "markdown",
      "source": [
        "## Lista de funciones y paquetes vistos hoy"
      ],
      "metadata": {
        "id": "abKLQdpzqi_u"
      }
    },
    {
      "cell_type": "markdown",
      "source": [
        "Para conectar drive:\n",
        "\n",
        "import os\n",
        "from google.colab import drive\n",
        "\n",
        "drive.mount(\"/content/drive\", force_remount=True)"
      ],
      "metadata": {
        "id": "VRah1grWrGcF"
      }
    },
    {
      "cell_type": "markdown",
      "source": [
        "\n",
        "Funciones para leer archivos de la librería pandas\n",
        "\n",
        "import pandas as pd\n",
        "\n",
        "- csv: pd.read_csv\n",
        "- xlsx: pd.read_excel\n",
        "- spss: pd.read_spss (terminación .sav)\n",
        "- sql: pd.read_sql"
      ],
      "metadata": {
        "id": "32ruANtRrEl-"
      }
    },
    {
      "cell_type": "markdown",
      "source": [
        "Atributos:\n",
        "\n",
        ".columns: Devuelve las etiquetas de las columnas del DataFrame.\n",
        "\n",
        ".index: Devuelve las etiquetas de las filas del DataFrame.\n",
        "\n",
        ".dtypes: Devuelve los tipos de datos de cada columna en el DataFrame.\n",
        "\n",
        ".shape: Devuelve una tupla que representa la dimensionalidad del DataFrame, es decir, (número de filas, número de columnas).\n",
        "\n",
        ".size: Devuelve el número total de elementos en el DataFrame."
      ],
      "metadata": {
        "id": "fzPMFEwErlbs"
      }
    },
    {
      "cell_type": "markdown",
      "source": [
        "Próx clase: **Creación de gráficos y visualización de datos**\n",
        "- Introducción a las librerías Matplotlib y Seaborn para visualización de datos\n",
        "- Creación de gráficos de barras, histogramas, gráficos de líneas y gráficos de dispersión\n",
        "- Personalización de gráficos: títulos, etiquetas y leyendas\n",
        "- Interpretación de gráficos en el contexto de análisis social"
      ],
      "metadata": {
        "id": "11u9xDVDqV68"
      }
    },
    {
      "cell_type": "code",
      "source": [
        "print(\"Gracias por atender! :)\")"
      ],
      "metadata": {
        "id": "V-tyZ9_xrP7U",
        "outputId": "0ee04803-9f4e-47db-eb17-3b23f6b2a4b1",
        "colab": {
          "base_uri": "https://localhost:8080/"
        }
      },
      "execution_count": null,
      "outputs": [
        {
          "output_type": "stream",
          "name": "stdout",
          "text": [
            "Gracias por atender! :)\n"
          ]
        }
      ]
    }
  ]
}